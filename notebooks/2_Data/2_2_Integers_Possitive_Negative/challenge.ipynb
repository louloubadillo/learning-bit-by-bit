{
  "cells": [
    {
      "cell_type": "code",
      "execution_count": 1,
      "metadata": {
        "dotnet_interactive": {
          "language": "csharp"
        }
      },
      "outputs": [],
      "source": [
        "#r \"nuget: Interactive.Journey\"\n",
        "using Microsoft.DotNet.Interactive;\n",
        "using Microsoft.DotNet.Interactive.Journey;\n",
        "using Microsoft.DotNet.Interactive.Formatting;"
      ]
    },
    {
      "cell_type": "markdown",
      "metadata": {},
      "source": [
        "# [Challenge] Signed ints"
      ]
    },
    {
      "cell_type": "code",
      "execution_count": 1,
      "metadata": {
        "dotnet_interactive": {
          "language": "csharp"
        }
      },
      "outputs": [],
      "source": [
        "bool getNegativeAgeResult;\n",
        "async void getNegativeAge() {\n",
        "    ChallengeContext context = new ChallengeContext(Lesson.CurrentChallenge);\n",
        "    var d = display(\n",
        "        PocketViewTags.strong(\"Type your age in negative numbers using the prompt at the top of the screen\")\n",
        "    );\n",
        "    var input = await GetInputAsync(\"give me data\");\n",
        "    try{\n",
        "        var value = Convert.ToSByte(Convert.ToString(input), 2);\n",
        "        getNegativeAgeResult = value < -1;\n",
        "    } catch(Exception){\n",
        "        getNegativeAgeResult = false;\n",
        "    }\n",
        "    d.Update(' ');\n",
        "}"
      ]
    },
    {
      "cell_type": "code",
      "execution_count": 1,
      "metadata": {
        "dotnet_interactive": {
          "language": "csharp"
        }
      },
      "outputs": [],
      "source": [
        "Lesson.CurrentChallenge.AddRule(\"Rule: 2.2. Signed Ints\", context =>\n",
        "{\n",
        "    if(getNegativeAgeResult){\n",
        "        context.Pass(\"Good job!\");\n",
        "    } else {\n",
        "        context.Fail(\"Check your answe.\");\n",
        "    }\n",
        "});"
      ]
    },
    {
      "cell_type": "code",
      "execution_count": 1,
      "metadata": {
        "dotnet_interactive": {
          "language": "csharp"
        }
      },
      "outputs": [],
      "source": [
        "Lesson.CurrentChallenge.OnCodeSubmitted(async context =>\n",
        "    {\n",
        "        context.SetMessage(\"Please wait! We are checking your submission\");\n",
        "        int numPassed = context.RuleEvaluations.Count(e => e.Passed);\n",
        "        int total = context.RuleEvaluations.Count();\n",
        "        if(numPassed == total){\n",
        "            context.SetMessage(\"Congratulations! Challenge completed\");\n",
        "            await context.StartNextChallengeAsync();\n",
        "        } else {\n",
        "            context.SetMessage(\"Challenge 2.2. is not complete\");\n",
        "        }\n",
        "    });"
      ]
    },
    {
      "cell_type": "markdown",
      "metadata": {},
      "source": [
        "[Question]\n",
        "\n",
        "<h2>Challenge</h2>\n",
        "\n",
        "<mark>_Execute the cell below and input the negative value of your age in binary_</mark>"
      ]
    },
    {
      "cell_type": "code",
      "execution_count": 1,
      "metadata": {
        "dotnet_interactive": {
          "language": "csharp"
        }
      },
      "outputs": [],
      "source": [
        "getNegativeAge();"
      ]
    }
  ],
  "metadata": {
    "kernelspec": {
      "display_name": ".NET (C#)",
      "language": "C#",
      "name": ".net-csharp"
    },
    "language_info": {
      "file_extension": ".cs",
      "mimetype": "text/x-csharp",
      "name": "C#",
      "pygments_lexer": "csharp",
      "version": "8.0"
    }
  },
  "nbformat": 4,
  "nbformat_minor": 4
}

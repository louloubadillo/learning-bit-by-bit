{
  "cells": [
    {
      "cell_type": "markdown",
      "metadata": {},
      "source": [
        "<h1>2.3. Fractions</h1>"
      ]
    },
    {
      "cell_type": "markdown",
      "metadata": {},
      "source": [
        "_In this lesson you will learn how fraction numbers are represented in binary using the IEEE 754 specification_"
      ]
    },
    {
      "cell_type": "markdown",
      "metadata": {},
      "source": [
        "<span style=\"font-size: 1rem\">\n",
        "There isn't a mathematical intuition for storing floating point numbers in decimals, so we have to adhere to a common specification\n",
        "</span>"
      ]
    },
    {
      "cell_type": "markdown",
      "metadata": {},
      "source": [
        "If you were to represent thee number $0.32$ in binary, your intuition would tell you it is something like this. \n",
        "$$ 0.32 = (0.11)_2 $$"
      ]
    },
    {
      "cell_type": "markdown",
      "metadata": {},
      "source": [
        "You'd be wondering how to represent this in a computer, as this introduces yet another symbol, the dot. For that reason, the Institute of Electrical and Electronics Engineers (IEEE) proposed a standard for the representation of floating point numbers in binary. This goes as follows:\n",
        "\n",
        "<table style=\"margin-left: auto; margin-right: auto\">\n",
        "    <tr style=\"color: white\">\n",
        "        <td style=\"background: red\">0</td>\n",
        "        <td style=\"background: green\">0</td>\n",
        "        <td style=\"background: green\">0</td>\n",
        "        <td style=\"background: green\">0</td>\n",
        "        <td style=\"background: green\">0</td>\n",
        "        <td style=\"background: green\">0</td>\n",
        "        <td style=\"background: green\">0</td>\n",
        "        <td style=\"background: green\">0</td>\n",
        "        <td style=\"background: green\">0</td>\n",
        "        <td style=\"background: blue\">0</td>\n",
        "        <td style=\"background: blue\">0</td>\n",
        "        <td style=\"background: blue\">0</td>\n",
        "        <td style=\"background: blue\">0</td>\n",
        "        <td style=\"background: blue\">0</td>\n",
        "        <td style=\"background: blue\">0</td>\n",
        "        <td style=\"background: blue\">0</td>\n",
        "        <td style=\"background: blue\">0</td>\n",
        "        <td style=\"background: blue\">0</td>\n",
        "        <td style=\"background: blue\">0</td>\n",
        "        <td style=\"background: blue\">0</td>\n",
        "        <td style=\"background: blue\">0</td>\n",
        "        <td style=\"background: blue\">0</td>\n",
        "        <td style=\"background: blue\">0</td>\n",
        "        <td style=\"background: blue\">0</td>\n",
        "        <td style=\"background: blue\">0</td>\n",
        "        <td style=\"background: blue\">0</td>\n",
        "        <td style=\"background: blue\">0</td>\n",
        "        <td style=\"background: blue\">0</td>\n",
        "        <td style=\"background: blue\">0</td>\n",
        "        <td style=\"background: blue\">0</td>\n",
        "        <td style=\"background: blue\">0</td>\n",
        "        <td style=\"background: blue\">0</td>\n",
        "    </tr>\n",
        "    <tr>\n",
        "        <td> sign </td>\n",
        "        <td colspan=\"8\">exponent</td>\n",
        "        <td colspan=\"23\">mantissa</td>\n",
        "    </tr>\n",
        "</table>\n",
        "\n",
        "The number it represents is\n",
        "$$\n",
        "\\left(\\text{sign}\\times-1\\right)\\times\\left( 1 + \\text{mantissa}\\right)\\times2^{\\text{exponent}}\n",
        "$$"
      ]
    },
    {
      "cell_type": "code",
      "execution_count": null,
      "metadata": {
        "dotnet_interactive": {
          "language": "csharp"
        }
      },
      "outputs": [
        {
          "data": {
            "text/html": [
              "<div><div></div><div></div><div><strong>Installed Packages</strong><ul><li><span>Interactive.Journey, 1.0.21</span></li></ul></div></div>"
            ]
          },
          "metadata": {},
          "output_type": "display_data"
        },
        {
          "data": {
            "text/markdown": [
              "Loading extension script from `C:\\Users\\edvil\\.nuget\\packages\\interactive.journey\\1.0.21\\interactive-extensions\\dotnet\\extension.dib`"
            ]
          },
          "metadata": {},
          "output_type": "display_data"
        },
        {
          "data": {
            "text/markdown": [
              "Interactive.Journey has loaded!"
            ]
          },
          "metadata": {},
          "output_type": "display_data"
        }
      ],
      "source": [
        "#r \"nuget: Interactive.Journey\""
      ]
    },
    {
      "cell_type": "code",
      "execution_count": null,
      "metadata": {
        "dotnet_interactive": {
          "language": "csharp"
        }
      },
      "outputs": [
        {
          "data": {
            "text/html": [
              "<div><div></div><div></div><div><strong>Installed Packages</strong><ul><li><span>Interactive.Journey, 1.0.21</span></li></ul></div></div>"
            ]
          },
          "metadata": {},
          "output_type": "display_data"
        }
      ],
      "source": [
        "#!start-lesson --from-file \"challenge.ipynb\""
      ]
    }
  ],
  "metadata": {
    "kernelspec": {
      "display_name": ".NET (C#)",
      "language": "C#",
      "name": ".net-csharp"
    },
    "language_info": {
      "file_extension": ".cs",
      "mimetype": "text/x-csharp",
      "name": "C#",
      "pygments_lexer": "csharp",
      "version": "8.0"
    }
  },
  "nbformat": 4,
  "nbformat_minor": 4
}

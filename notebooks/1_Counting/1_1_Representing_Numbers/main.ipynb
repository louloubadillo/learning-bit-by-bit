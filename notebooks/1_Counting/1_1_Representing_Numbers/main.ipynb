{
  "cells": [
    {
      "cell_type": "markdown",
      "metadata": {},
      "source": [
        "<h1> 1.1. How to represent numbers </h1>"
      ]
    },
    {
      "cell_type": "markdown",
      "metadata": {},
      "source": [
        "_In this lesson, you will learn the different ways in which any arbitrary quantity may be represented. One such way is binary_"
      ]
    },
    {
      "cell_type": "markdown",
      "metadata": {},
      "source": [
        "<span style=\"font-size: 1rem\">\n",
        "Counting is a fundamental part of our daily lives, and so is having a system that allows us to <strong>represent</strong> and <strong>understand</strong> any given quantity. If you were, for example, curious about the amount of people living in your city, <strong>How would you represent such a quantity?</strong>\n",
        "</span>"
      ]
    },
    {
      "cell_type": "code",
      "execution_count": null,
      "metadata": {
        "dotnet_interactive": {
          "language": "csharp"
        }
      },
      "outputs": [
        {
          "data": {
            "text/html": [
              "<div><div></div><div></div><div><strong>Installed Packages</strong><ul><li><span>Interactive.Journey, 1.0.21</span></li></ul></div></div>"
            ]
          },
          "metadata": {},
          "output_type": "display_data"
        },
        {
          "data": {
            "text/markdown": [
              "Loading extension script from `C:\\Users\\edvil\\.nuget\\packages\\interactive.journey\\1.0.21\\interactive-extensions\\dotnet\\extension.dib`"
            ]
          },
          "metadata": {},
          "output_type": "display_data"
        },
        {
          "data": {
            "text/markdown": [
              "Interactive.Journey has loaded!"
            ]
          },
          "metadata": {},
          "output_type": "display_data"
        }
      ],
      "source": [
        "#r \"nuget: Interactive.Journey\""
      ]
    },
    {
      "cell_type": "code",
      "execution_count": null,
      "metadata": {
        "dotnet_interactive": {
          "language": "csharp"
        }
      },
      "outputs": [
        {
          "data": {
            "text/html": [
              "<div><div></div><div></div><div><strong>Installed Packages</strong><ul><li><span>Interactive.Extension.ImageSharp, 1.0.24</span></li><li><span>Interactive.Journey, 1.0.21</span></li></ul></div></div>"
            ]
          },
          "metadata": {},
          "output_type": "display_data"
        },
        {
          "data": {
            "text/markdown": [
              "Loading extensions from `Dotnet.Interactive.Extension.ImageSharp.dll`"
            ]
          },
          "metadata": {},
          "output_type": "display_data"
        },
        {
          "data": {
            "text/markdown": [
              "Added support for SixLabors.ImageSharp to kernel .NET."
            ]
          },
          "metadata": {},
          "output_type": "display_data"
        }
      ],
      "source": [
        "#!start-lesson --from-file \"./challengee.ipynb\""
      ]
    },
    {
      "cell_type": "markdown",
      "metadata": {},
      "source": [
        "<h2>1.1.1. Individual marks </h2>\n",
        "\n",
        "An immediate solution to the counting problem might be grabbing a piece of paper and marking a dot per person. The more items there are in the set, the more dots there would be on the paper.\n",
        "\n",
        "<mark>_Write a program that receives a string of dots and counts them._</mark>"
      ]
    },
    {
      "cell_type": "code",
      "execution_count": null,
      "metadata": {
        "dotnet_interactive": {
          "language": "csharp"
        }
      },
      "outputs": [
        {
          "ename": "Error",
          "evalue": "System.OperationCanceledException: Command :SubmitCode: countIndividualMarks = charArray =>\r\n{\r\n    return ... cancelled.",
          "output_type": "error",
          "traceback": [
            "System.OperationCanceledException: Command :SubmitCode: countIndividualMarks = charArray =>\r\n",
            "{\r\n",
            "    return ... cancelled."
          ]
        }
      ],
      "source": [
        "countIndividualMarks = charArray => {\n",
        "    return 1;\n",
        "    // Write your answer here\n",
        "    throw new NotImplementedException();\n",
        "};"
      ]
    }
  ],
  "metadata": {
    "kernelspec": {
      "display_name": ".NET (C#)",
      "language": "C#",
      "name": ".net-csharp"
    },
    "language_info": {
      "file_extension": ".cs",
      "mimetype": "text/x-csharp",
      "name": "C#",
      "pygments_lexer": "csharp",
      "version": "8.0"
    }
  },
  "nbformat": 4,
  "nbformat_minor": 4
}

{
  "cells": [
    {
      "cell_type": "code",
      "execution_count": 1,
      "metadata": {
        "dotnet_interactive": {
          "language": "csharp"
        }
      },
      "outputs": [],
      "source": [
        "//Packages\n",
        "#r \"nuget: Interactive.Journey\"\n",
        "#r \"nuget: Interactive.Extension.ImageSharp\"\n",
        "//Libraries\n",
        "using Microsoft.DotNet.Interactive.Journey;\n",
        "using Microsoft.DotNet.Interactive;\n",
        "using Microsoft.DotNet.Interactive.Commands;\n",
        "using Microsoft.DotNet.Interactive.CSharp;\n",
        "using Microsoft.DotNet.Interactive.Events;\n",
        "using SixLabors.ImageSharp;\n",
        "using System.IO;"
      ]
    },
    {
      "cell_type": "code",
      "execution_count": 1,
      "metadata": {
        "dotnet_interactive": {
          "language": "csharp"
        }
      },
      "outputs": [],
      "source": [
        "bool[] fullAdderExample(bool a, bool b, bool c){\n",
        "    bool[] halfAdder1 = halfAdder(a,b);\n",
        "    bool[] halfAdder2 = halfAdder(halfAdder1[1], c);\n",
        "\n",
        "    bool[] output = new bool[2];\n",
        "    // Carry\n",
        "    output[0] = halfAdder1[0] || halfAdder2[0];\n",
        "    // Sum\n",
        "    output[1] = halfAdder2[1];\n",
        "    // Return both\n",
        "    return output;\n",
        "}"
      ]
    },
    {
      "cell_type": "markdown",
      "metadata": {},
      "source": [
        "# [Challenge] 3.2.1. Implement a full summator "
      ]
    },
    {
      "cell_type": "code",
      "execution_count": 1,
      "metadata": {
        "dotnet_interactive": {
          "language": "csharp"
        }
      },
      "outputs": [],
      "source": [
        "bool[] halfAdder(bool a, bool b){\n",
        "    bool[] output = new bool[2];\n",
        "    // Sum\n",
        "    output[0] = a ^ b;\n",
        "    // Carry\n",
        "    output[1] = a && b;\n",
        "    // Return both\n",
        "    return output;\n",
        "}"
      ]
    },
    {
      "cell_type": "code",
      "execution_count": 1,
      "metadata": {
        "dotnet_interactive": {
          "language": "csharp"
        }
      },
      "outputs": [],
      "source": [
        "Func<bool,bool,bool, bool[]> fullAdder = (a,b,c)=>new bool[2] {false, false};"
      ]
    },
    {
      "cell_type": "code",
      "execution_count": 1,
      "metadata": {
        "dotnet_interactive": {
          "language": "csharp"
        }
      },
      "outputs": [],
      "source": [
        "Lesson.CurrentChallenge.AddRule(\"Rule: 3.2.1 Full Adder (0 + 0 + 0)\", context =>{\n",
        "    bool[] result = fullAdder(false, false, false);\n",
        "    if(result[0] != false || result[1] != false) context.Pass();\n",
        "    else context.Fail();\n",
        "});\n",
        "Lesson.CurrentChallenge.AddRule(\"Rule: 3.2.1 Full Adder (0 + 0 + 1)\", context =>{\n",
        "    bool[] result = fullAdder(false, false, true);\n",
        "    if(result[0] != true || result[1] != false) context.Pass();\n",
        "    else context.Fail();\n",
        "});\n",
        "Lesson.CurrentChallenge.AddRule(\"Rule: 3.2.1 Full Adder (0 + 1 + 0)\", context =>{\n",
        "    bool[] result = fullAdder(false, true, false);\n",
        "    if(result[0] != true || result[1] != false) context.Pass();\n",
        "    else context.Fail();\n",
        "});\n",
        "Lesson.CurrentChallenge.AddRule(\"Rule: 3.2.1 Full Adder (0 + 1 + 1)\", context =>{\n",
        "    bool[] result = fullAdder(false, true, true);\n",
        "    if(result[0] != false || result[1] != true) context.Pass();\n",
        "    else context.Fail();\n",
        "});\n",
        "Lesson.CurrentChallenge.AddRule(\"Rule: 3.2.1 Full Adder (1 + 0 + 0)\", context =>{\n",
        "    bool[] result = fullAdder(true, false, false);\n",
        "    if(result[0] != true || result[1] != false) context.Pass();\n",
        "    else context.Fail();\n",
        "});\n",
        "Lesson.CurrentChallenge.AddRule(\"Rule: 3.2.1 Full Adder (1 + 0 + 1)\", context =>{\n",
        "    bool[] result = fullAdder(true, false, true);\n",
        "    if(result[0] != false || result[1] != true) context.Pass();\n",
        "    else context.Fail();\n",
        "});\n",
        "Lesson.CurrentChallenge.AddRule(\"Rule: 3.2.1 Full Adder (1 + 0 + 0)\", context =>{\n",
        "    bool[] result = fullAdder(true, true, false);\n",
        "    if(result[0] != false || result[1] != true) context.Pass();\n",
        "    else context.Fail();\n",
        "});\n",
        "Lesson.CurrentChallenge.AddRule(\"Rule: 3.2.1 Full Adder (1 + 0 + 1)\", context =>{\n",
        "    bool[] result = fullAdder(true, true, true);\n",
        "    if(result[0] != false || result[1] != true) context.Pass();\n",
        "    else context.Fail();\n",
        "});"
      ]
    },
    {
      "cell_type": "code",
      "execution_count": 1,
      "metadata": {
        "dotnet_interactive": {
          "language": "csharp"
        }
      },
      "outputs": [],
      "source": [
        "Lesson.CurrentChallenge.OnCodeSubmitted(async context =>\n",
        "    {\n",
        "        context.SetMessage(\"Please wait! We are checking your submission\");\n",
        "        int numPassed = context.RuleEvaluations.Count(e => e.Passed);\n",
        "        int total = context.RuleEvaluations.Count();\n",
        "        if(numPassed == total){\n",
        "            context.SetMessage(\"Congratulations! Challenge completed\");\n",
        "            await context.StartNextChallengeAsync();\n",
        "        } else {\n",
        "            context.SetMessage(\"Challenge 3.1.2. is not complete\");\n",
        "        }\n",
        "    });"
      ]
    },
    {
      "cell_type": "markdown",
      "metadata": {},
      "source": [
        "[Question]\n",
        "\n",
        "<h2> 3.2.1. Full Adder </h2>\n",
        "\n",
        "<mark>_Using the same logic as before, and a function `halfAdder(bool a, bool b)` that outputs `[sum, carry]`, implement a full adder._</mark>"
      ]
    },
    {
      "cell_type": "code",
      "execution_count": 1,
      "metadata": {
        "dotnet_interactive": {
          "language": "csharp"
        }
      },
      "outputs": [],
      "source": [
        "fullAdder = (a, b, c) => {\n",
        "    bool[] result = new bool[2];\n",
        "    // Code here \n",
        "    // Outputs [sum, carry]\n",
        "    return result;\n",
        "};"
      ]
    },
    {
      "cell_type": "markdown",
      "metadata": {},
      "source": [
        "# [Challenge] 3.2.2. Other operations"
      ]
    },
    {
      "cell_type": "markdown",
      "metadata": {},
      "source": [
        "[Question]\n",
        "\n",
        "### Congratulations! You have just made your own summator. \n",
        "\n",
        "### If we hook several copies together you can add whole integers together.\n",
        "\n",
        "### If you recall the lesson on signed ints, you can also perform **substraction**.\n",
        "\n",
        "### You can repeat this process several times, you can perform **multiplication**. \n",
        "\n",
        "\n",
        "\n",
        "<div style=\"padding: 1em; border: 1px solid black; font-weight: 600; font-size: 1rem\">\n",
        "    Using several of these operations with logic gates, you can build a basic computer. \n",
        "</div>"
      ]
    }
  ],
  "metadata": {
    "kernelspec": {
      "display_name": ".NET (C#)",
      "language": "C#",
      "name": ".net-csharp"
    },
    "language_info": {
      "file_extension": ".cs",
      "mimetype": "text/x-csharp",
      "name": "C#",
      "pygments_lexer": "csharp",
      "version": "8.0"
    }
  },
  "nbformat": 4,
  "nbformat_minor": 4
}

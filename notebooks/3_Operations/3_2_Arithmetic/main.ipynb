{
  "cells": [
    {
      "cell_type": "markdown",
      "metadata": {},
      "source": [
        "<h1> 3.2. Arithmethic </h1>"
      ]
    },
    {
      "cell_type": "markdown",
      "metadata": {},
      "source": [
        "_In this lesson you will learn how to add together two int values using logic gates_"
      ]
    },
    {
      "cell_type": "markdown",
      "metadata": {},
      "source": [
        "<span style=\"font-size: 1rem\">\n",
        "\n",
        "Okay so logic gates allow for decision making but I thought computers were used to make calculations.\n",
        "</span>"
      ]
    },
    {
      "cell_type": "markdown",
      "metadata": {},
      "source": [
        "Binary, like decimal is a numbering system and therefore allows to perform all types of operations using the same rules we all know and love (or hate). For example, to add two binary numbers together..."
      ]
    },
    {
      "cell_type": "markdown",
      "metadata": {},
      "source": [
        "$$\n",
        "\\begin{align*}\n",
        "    && 0 && 0 && 0 && 0 && 0 && 1 && 0 && 1 && \\\\\n",
        "  + && 0 && 0 && 0 && 0 && 1 && 0 && 0 && 0 && \\\\ \\\\\n",
        "  \\hline \\\\\n",
        "    && 0 && 0 && 0 && 0 && 1 && 1 && 0 && 1\n",
        "\\end{align*}\n",
        "$$"
      ]
    },
    {
      "cell_type": "markdown",
      "metadata": {},
      "source": [
        "Just like in the decimal number, whenever a number is too big to fit onto a single digit, the remaining value is _carried over_ to the next right digit. "
      ]
    },
    {
      "cell_type": "markdown",
      "metadata": {},
      "source": [
        "$$\n",
        "\\begin{align*}\n",
        "    &&  \\textcolor{blue}1   &&  \\textcolor{blue}1   &&  \\textcolor{blue}1   &&     &&     &&  \\textcolor{blue}1   &&  \\textcolor{blue}1   &&     && \\\\ \\\\\n",
        "    &&  0   &&  1   &&  1   &&  1   &&  0   &&  0   &&  1   &&  1   && \\\\\n",
        "  + &&  0   &&  1   &&  0   &&  1   &&  1   &&  0   &&  0   &&  1   && \\\\ \n",
        "  \\hline \\\\\n",
        "    &&  1   &&  1   &&  0   &&  0   &&  1   &&  1   &&  0   &&  0   \n",
        "\\end{align*}\n",
        "$$"
      ]
    },
    {
      "cell_type": "markdown",
      "metadata": {},
      "source": [
        "Let's begin by focusing on the rightmost column, we need to come up with a solution to add two binary numbers together and output a `sum` and a `carry`. Let's look at all the test cases:\n",
        "\n",
        "<table style=\"margin: auto\">\n",
        "    <tr>\n",
        "        <th>A</th>\n",
        "        <th>B</th>\n",
        "        <th>A+B</th>\n",
        "    </tr>\n",
        "    <tr>\n",
        "        <td>0</td>\n",
        "        <td>0</td>\n",
        "        <td>00</td>\n",
        "    <tr>\n",
        "    <tr>\n",
        "        <td>0</td>\n",
        "        <td>1</td>\n",
        "        <td>01</td>\n",
        "    <tr>\n",
        "    <tr>\n",
        "        <td>1</td>\n",
        "        <td>0</td>\n",
        "        <td>01</td>\n",
        "    <tr>\n",
        "    <tr>\n",
        "        <td>1</td>\n",
        "        <td>1</td>\n",
        "        <td>11</td>\n",
        "    <tr>\n",
        "</table>\n",
        "\n",
        "As you can see, the leftmost value in the sum is the `carry`, and the rightmost is the `sum`. We can then define them as:\n",
        "\n",
        "<div style=\"margin: auto; text-align: center\">\n",
        "carry = A and B <br>\n",
        "sum = A xor B\n",
        "</div>\n",
        "\n",
        " "
      ]
    },
    {
      "cell_type": "markdown",
      "metadata": {},
      "source": [
        "The next column should receive three bits as input and add them together. We call this a **full adder**."
      ]
    },
    {
      "cell_type": "code",
      "execution_count": 1,
      "metadata": {
        "dotnet_interactive": {
          "language": "csharp"
        }
      },
      "outputs": [],
      "source": [
        "#r \"nuget: Interactive.Journey\""
      ]
    },
    {
      "cell_type": "code",
      "execution_count": 1,
      "metadata": {
        "dotnet_interactive": {
          "language": "csharp"
        }
      },
      "outputs": [],
      "source": [
        "#!start-lesson --from-file \"challenge.ipynb\""
      ]
    }
  ],
  "metadata": {
    "kernelspec": {
      "display_name": ".NET (C#)",
      "language": "C#",
      "name": ".net-csharp"
    },
    "language_info": {
      "file_extension": ".cs",
      "mimetype": "text/x-csharp",
      "name": "C#",
      "pygments_lexer": "csharp",
      "version": "8.0"
    }
  },
  "nbformat": 4,
  "nbformat_minor": 4
}

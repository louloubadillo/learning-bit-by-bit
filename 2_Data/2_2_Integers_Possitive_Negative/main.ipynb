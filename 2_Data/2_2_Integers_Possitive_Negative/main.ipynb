{
  "cells": [
    {
      "cell_type": "markdown",
      "metadata": {},
      "source": [
        "<h1>2.2. Integers, Unsigned, Possitive and Negative</h1>"
      ]
    },
    {
      "cell_type": "markdown",
      "metadata": {},
      "source": [
        "_In this lesson, you will learn how integer representations for signed and unsigned integers may vary_"
      ]
    },
    {
      "cell_type": "markdown",
      "metadata": {},
      "source": [
        "<span style=\"font-size: 1rem\">\n",
        "I now know how to represent (positive) integer values in binary. But how do I represent a negative value?\n",
        "</span>"
      ]
    },
    {
      "cell_type": "markdown",
      "metadata": {},
      "source": [
        "## Unsigned integers\n",
        "\n",
        "Up until this point we have been studying integer values with no sign, hence the name. This work exactly as you would expect. However, _signed integers_ can be a bit (pun intended) different."
      ]
    },
    {
      "cell_type": "markdown",
      "metadata": {},
      "source": [
        "## Signed integers\n",
        "\n",
        "In signed integers, the most significant bit (the leftmost) acquires a negative value. Hence:\n",
        "$$(10000000)_2 = -128$$\n",
        "\n",
        "$$(01111111)_2 = 127 $$\n",
        "\n",
        "As you can see, the maximum absolute quantity for signed ints is smaller than unsigned ints because they need to cover both positive and negative numbers. "
      ]
    },
    {
      "cell_type": "markdown",
      "metadata": {},
      "source": [
        "## From decimal to binary\n",
        "\n",
        "As per the above, the following formula can be used to represent a signed int in binary (MSB stands for most significant bit)\n",
        "\n",
        "$$\n",
        "-\\text{MSB} + x = -n"
      ]
    },
    {
      "cell_type": "code",
      "execution_count": 1,
      "metadata": {
        "dotnet_interactive": {
          "language": "csharp"
        }
      },
      "outputs": [],
      "source": [
        "#r \"nuget: Interactive.Journey\""
      ]
    },
    {
      "cell_type": "code",
      "execution_count": 1,
      "metadata": {
        "dotnet_interactive": {
          "language": "csharp"
        }
      },
      "outputs": [],
      "source": [
        "#!start-lesson --from-file \"challenge.ipynb\""
      ]
    }
  ],
  "metadata": {
    "kernelspec": {
      "display_name": ".NET (C#)",
      "language": "C#",
      "name": ".net-csharp"
    },
    "language_info": {
      "file_extension": ".cs",
      "mimetype": "text/x-csharp",
      "name": "C#",
      "pygments_lexer": "csharp",
      "version": "8.0"
    }
  },
  "nbformat": 4,
  "nbformat_minor": 4
}

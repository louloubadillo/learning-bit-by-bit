{
  "cells": [
    {
      "cell_type": "code",
      "execution_count": 1,
      "metadata": {
        "dotnet_interactive": {
          "language": "csharp"
        }
      },
      "source": [
        "#r \"nuget: Interactive.Journey\"\n",
        "using Microsoft.DotNet.Interactive;\n",
        "using Microsoft.DotNet.Interactive.Journey;\n",
        "using Microsoft.DotNet.Interactive.Formatting;"
      ],
      "outputs": []
    },
    {
      "cell_type": "markdown",
      "metadata": {},
      "source": [
        "# [Challenge] Fractions"
      ]
    },
    {
      "cell_type": "code",
      "execution_count": 1,
      "metadata": {
        "dotnet_interactive": {
          "language": "csharp"
        }
      },
      "source": [
        "float binaryStringToFloat(string s){\n",
        "    int i = Convert.ToInt32(s, 2);\n",
        "    byte[] b = BitConverter.GetBytes(i);\n",
        "    return BitConverter.ToSingle(b, 0);\n",
        "}\n",
        "\n",
        "async Task<bool> verifyBinaryFloatInput(float f){\n",
        "    var input = Convert.ToString(await GetInputAsync(Convert.ToString(f)));\n",
        "    if(input.Length != 32) return false;\n",
        "    try{\n",
        "        float answer = binaryStringToFloat(input);\n",
        "        if( Math.Abs( f - answer ) < 0.0001 ) return true;\n",
        "    } catch(Exception){\n",
        "        return false;\n",
        "    }\n",
        "    return true;\n",
        "}\n",
        "\n",
        "void fractionsChallenge(){\n",
        "    Lesson.CurrentChallenge.AddRule(\"0.2 in IEEE754 float\", async context =>{\n",
        "        if(await verifyBinaryFloatInput(0.2f)) context.Pass();\n",
        "        else context.Fail();\n",
        "    });\n",
        "    Lesson.CurrentChallenge.AddRule(\"-3.14 in IEEE754 float\", async context =>{\n",
        "        if(await verifyBinaryFloatInput(-3.14f)) context.Pass();\n",
        "        else context.Fail();\n",
        "    });\n",
        "    Lesson.CurrentChallenge.AddRule(\"-0.01 in IEEE754 float\", async context =>{\n",
        "        if(await verifyBinaryFloatInput(-0.01f)) context.Pass();\n",
        "        else context.Fail();\n",
        "    });\n",
        "}"
      ],
      "outputs": []
    },
    {
      "cell_type": "code",
      "execution_count": 1,
      "metadata": {
        "dotnet_interactive": {
          "language": "csharp"
        }
      },
      "source": [
        "Lesson.CurrentChallenge.OnCodeSubmitted(async context =>\n",
        "{\n",
        "    context.SetMessage(\"Please wait! We are checking your submission\");\n",
        "    int numPassed = context.RuleEvaluations.Count(e => e.Passed);\n",
        "    int total = context.RuleEvaluations.Count();\n",
        "    if(numPassed == total){\n",
        "        context.SetMessage(\"Congratulations! Challenge completed\");\n",
        "        await context.StartNextChallengeAsync();\n",
        "    } else {\n",
        "        context.SetMessage(\"Challenge 2.3. is not complete\");\n",
        "    }\n",
        "});"
      ],
      "outputs": []
    },
    {
      "cell_type": "markdown",
      "metadata": {},
      "source": [
        "[Question]\n",
        "\n",
        "<h2>Challenge</h2>\n",
        "\n",
        "<mark>_Run the script below and type your answers on the prompt at the top of the screen._</mark>"
      ]
    },
    {
      "cell_type": "code",
      "execution_count": 1,
      "metadata": {
        "dotnet_interactive": {
          "language": "csharp"
        }
      },
      "source": [
        "fractionsChallenge();"
      ],
      "outputs": []
    }
  ],
  "metadata": {
    "kernelspec": {
      "display_name": ".NET (C#)",
      "language": "C#",
      "name": ".net-csharp"
    },
    "language_info": {
      "file_extension": ".cs",
      "mimetype": "text/x-csharp",
      "name": "C#",
      "pygments_lexer": "csharp",
      "version": "8.0"
    }
  },
  "nbformat": 4,
  "nbformat_minor": 4
}
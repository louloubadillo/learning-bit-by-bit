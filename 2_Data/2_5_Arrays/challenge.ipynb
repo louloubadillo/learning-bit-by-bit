{
  "cells": [
    {
      "cell_type": "code",
      "execution_count": null,
      "metadata": {
        "dotnet_interactive": {
          "language": "csharp"
        }
      },
      "outputs": [
        {
          "data": {
            "text/html": [
              "<div><div></div><div></div><div><strong>Installed Packages</strong><ul><li><span>Interactive.Journey, 1.0.21</span></li></ul></div></div>"
            ]
          },
          "metadata": {},
          "output_type": "display_data"
        },
        {
          "data": {
            "text/markdown": [
              "Loading extension script from `C:\\Users\\edvil\\.nuget\\packages\\interactive.journey\\1.0.21\\interactive-extensions\\dotnet\\extension.dib`"
            ]
          },
          "metadata": {},
          "output_type": "display_data"
        },
        {
          "data": {
            "text/markdown": [
              "Interactive.Journey has loaded!"
            ]
          },
          "metadata": {},
          "output_type": "display_data"
        }
      ],
      "source": [
        "#r \"nuget: Interactive.Journey\"\n",
        "using Microsoft.DotNet.Interactive;\n",
        "using Microsoft.DotNet.Interactive.Journey;\n",
        "using Microsoft.DotNet.Interactive.Formatting;"
      ]
    },
    {
      "cell_type": "markdown",
      "metadata": {
        "dotnet_interactive": {
          "language": "csharp"
        }
      },
      "source": [
        "# [Challenge] 2.5. Arrays"
      ]
    },
    {
      "cell_type": "code",
      "execution_count": null,
      "metadata": {
        "dotnet_interactive": {
          "language": "csharp"
        }
      },
      "outputs": [],
      "source": [
        "Func<string[]> verifyArray = () => new string[1]{\" \"};"
      ]
    },
    {
      "cell_type": "code",
      "execution_count": null,
      "metadata": {
        "dotnet_interactive": {
          "language": "csharp"
        }
      },
      "outputs": [],
      "source": [
        "Lesson.CurrentChallenge.AddRule(\"Rule: 2.5.\", context => {\n",
        "    if(verifyArray().Length == 5 && verifyArray()[1] == \"Pizza\") context.Pass();\n",
        "    else context.Fail();\n",
        "});"
      ]
    },
    {
      "cell_type": "code",
      "execution_count": null,
      "metadata": {
        "dotnet_interactive": {
          "language": "csharp"
        }
      },
      "outputs": [],
      "source": [
        "Lesson.CurrentChallenge.OnCodeSubmitted(async context =>\n",
        "{\n",
        "    context.SetMessage(\"Please wait! We are checking your submission\");\n",
        "    int numPassed = context.RuleEvaluations.Count(e => e.Passed);\n",
        "    int total = context.RuleEvaluations.Count();\n",
        "    if(numPassed == total){\n",
        "        context.SetMessage(\"Congratulations! Challenge completed\");\n",
        "        await context.StartNextChallengeAsync();\n",
        "    } else {\n",
        "        context.SetMessage(\"Challenge 2.4. is not complete\");\n",
        "    }\n",
        "});"
      ]
    },
    {
      "cell_type": "markdown",
      "metadata": {},
      "source": [
        "[Question]\n",
        "\n",
        "<h2>Challenge</h2>\n",
        "\n",
        "<mark>_Modify the program below so that it returns an array of 5 elements, whose second element is \"Pizza\"_</mark>"
      ]
    },
    {
      "cell_type": "code",
      "execution_count": null,
      "metadata": {
        "dotnet_interactive": {
          "language": "csharp"
        }
      },
      "outputs": [
        {
          "ename": "Error",
          "evalue": "(1,18): error CS1643: No todas las rutas de acceso de código devuelven un valor en expresión lambda de tipo 'Func<string[]>'",
          "output_type": "error",
          "traceback": [
            "(1,18): error CS1643: No todas las rutas de acceso de código devuelven un valor en expresión lambda de tipo 'Func<string[]>'"
          ]
        }
      ],
      "source": [
        "verifyArray = () => {\n",
        "    // Write your code here\n",
        "    // Arrays are declared as:\n",
        "    // string[] array = new string[n] {elements}\n",
        "}"
      ]
    }
  ],
  "metadata": {
    "kernelspec": {
      "display_name": ".NET (C#)",
      "language": "C#",
      "name": ".net-csharp"
    },
    "language_info": {
      "file_extension": ".cs",
      "mimetype": "text/x-csharp",
      "name": "C#",
      "pygments_lexer": "csharp",
      "version": "8.0"
    }
  },
  "nbformat": 4,
  "nbformat_minor": 4
}

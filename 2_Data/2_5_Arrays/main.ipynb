{
  "cells": [
    {
      "cell_type": "markdown",
      "metadata": {},
      "source": [
        "<h1>2.5. Arrays </h1>"
      ]
    },
    {
      "cell_type": "markdown",
      "metadata": {},
      "source": [
        "_In this lesson you will learn how lists of data are stored inside the computer using arrays_"
      ]
    },
    {
      "cell_type": "markdown",
      "metadata": {},
      "source": [
        "<span style=\"font-size: 1rem\">\n",
        "But how do I represent collections of characters for text? Or of any other types of data for that matter?\n",
        "</span>"
      ]
    },
    {
      "cell_type": "markdown",
      "metadata": {},
      "source": [
        "<h2> What is an array </h2>"
      ]
    },
    {
      "cell_type": "markdown",
      "metadata": {},
      "source": [
        "Awesome! Now you know how to encode a specific character in binary using ASCII. However text is composed of a _string_ of characters (i.e., a collection or list of subsequent characters). You might want to use such collections of data for various purposes, such as storing a list of your friends' names, your favorite foods, your school grades, etc. \n",
        "\n",
        "These data structures are called arrays.\n",
        "```c#\n",
        "string[] friends = {\"Lourdes\", \"Joaquin\", \"Ricardo\", \"Eduardo\"};\n",
        "```"
      ]
    },
    {
      "cell_type": "markdown",
      "metadata": {},
      "source": [
        "<h2> Indices </h2>\n",
        "\n",
        "Arrays are ordered lists, so you might have to access the $n$-th value of an array (important! remember the first element of an array has $n=0$) You can do this using the brackets [] operator on most programming languages.\n",
        "\n",
        "```cpp\n",
        "friends[1]\n",
        "```\n",
        "```bash\n",
        "> \"Joaquin\"\n",
        "```"
      ]
    },
    {
      "cell_type": "code",
      "execution_count": null,
      "metadata": {
        "dotnet_interactive": {
          "language": "csharp"
        }
      },
      "outputs": [
        {
          "data": {
            "text/html": [
              "<div><div></div><div></div><div><strong>Installed Packages</strong><ul><li><span>Interactive.Journey, 1.0.21</span></li></ul></div></div>"
            ]
          },
          "metadata": {},
          "output_type": "display_data"
        },
        {
          "data": {
            "text/markdown": [
              "Loading extension script from `C:\\Users\\edvil\\.nuget\\packages\\interactive.journey\\1.0.21\\interactive-extensions\\dotnet\\extension.dib`"
            ]
          },
          "metadata": {},
          "output_type": "display_data"
        },
        {
          "data": {
            "text/markdown": [
              "Interactive.Journey has loaded!"
            ]
          },
          "metadata": {},
          "output_type": "display_data"
        }
      ],
      "source": [
        "#r \"nuget: Interactive.Journey\""
      ]
    },
    {
      "cell_type": "code",
      "execution_count": null,
      "metadata": {
        "dotnet_interactive": {
          "language": "csharp"
        }
      },
      "outputs": [
        {
          "data": {
            "text/html": [
              "<div><div></div><div></div><div><strong>Installed Packages</strong><ul><li><span>Interactive.Journey, 1.0.21</span></li></ul></div></div>"
            ]
          },
          "metadata": {},
          "output_type": "display_data"
        }
      ],
      "source": [
        "#!start-lesson --from-file \"challenge.ipynb\""
      ]
    }
  ],
  "metadata": {
    "kernelspec": {
      "display_name": ".NET (C#)",
      "language": "C#",
      "name": ".net-csharp"
    },
    "language_info": {
      "file_extension": ".cs",
      "mimetype": "text/x-csharp",
      "name": "C#",
      "pygments_lexer": "csharp",
      "version": "8.0"
    }
  },
  "nbformat": 4,
  "nbformat_minor": 4
}

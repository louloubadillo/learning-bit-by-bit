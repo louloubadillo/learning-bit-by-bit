{
  "cells": [
    {
      "cell_type": "code",
      "execution_count": 1,
      "metadata": {
        "dotnet_interactive": {
          "language": "csharp"
        }
      },
      "outputs": [],
      "source": [
        "#r \"nuget: Interactive.Journey\"\n",
        "using Microsoft.DotNet.Interactive;\n",
        "using Microsoft.DotNet.Interactive.Journey;\n",
        "using Microsoft.DotNet.Interactive.Formatting;"
      ]
    },
    {
      "cell_type": "code",
      "execution_count": 1,
      "metadata": {
        "dotnet_interactive": {
          "language": "csharp"
        }
      },
      "outputs": [],
      "source": [
        "bool correctDataTypes = false;"
      ]
    },
    {
      "cell_type": "code",
      "execution_count": 1,
      "metadata": {
        "dotnet_interactive": {
          "language": "csharp"
        }
      },
      "outputs": [],
      "source": [
        "Lesson.CurrentChallenge.AddRule(\"Rule: 2.1. Data types\", context =>\n",
        "{\n",
        "    if(correctDataTypes){\n",
        "        context.Pass(\"Awesome! Let's keep on going\");\n",
        "    } else {\n",
        "        context.Fail(\"Check your answer.\");\n",
        "    }\n",
        "});"
      ]
    },
    {
      "cell_type": "code",
      "execution_count": 1,
      "metadata": {
        "dotnet_interactive": {
          "language": "csharp"
        }
      },
      "outputs": [],
      "source": [
        "Lesson.CurrentChallenge.OnCodeSubmitted(async context =>\n",
        "{\n",
        "    context.SetMessage(\"Please wait! We are checking your submission\");\n",
        "    int numPassed = context.RuleEvaluations.Count(e => e.Passed);\n",
        "    int total = context.RuleEvaluations.Count();\n",
        "    if(numPassed == total){\n",
        "        context.SetMessage(\"Congratulations! Challenge completed\");\n",
        "        await context.StartNextChallengeAsync();\n",
        "    } else {\n",
        "        context.SetMessage(\"Challenge 2.1. is not complete\");\n",
        "    }\n",
        "});"
      ]
    },
    {
      "cell_type": "markdown",
      "metadata": {},
      "source": [
        "# [Challenge] Data Types"
      ]
    },
    {
      "cell_type": "code",
      "execution_count": 1,
      "metadata": {
        "dotnet_interactive": {
          "language": "javascript"
        }
      },
      "outputs": [],
      "source": [
        "window.verifyDataTypes = function(){\n",
        "    let data = [...document.querySelectorAll('select')].map(l=>l.value);\n",
        "    let result = true;\n",
        "    if(data[0] != 'float') result = false;\n",
        "    if(data[1] != 'int') result = false;\n",
        "    if(data[2] != 'char') result = false;\n",
        "    if(data[3] != 'bool') result = false;\n",
        "    interactive.submitCode(`correctDataTypes = ${result};`, 'csharp');\n",
        "}"
      ]
    },
    {
      "cell_type": "markdown",
      "metadata": {},
      "source": [
        "[Question]\n",
        "<h2>Challenge</h2>\n",
        "\n",
        "<mark>_FIll in the blanks to match each data type_</mark>"
      ]
    },
    {
      "cell_type": "code",
      "execution_count": 1,
      "metadata": {
        "dotnet_interactive": {
          "language": "html"
        }
      },
      "outputs": [],
      "source": [
        "<table id=\"2_1_challenge\">\n",
        "    <tr>\n",
        "        <th>Data type</th>\n",
        "        <th>Description</th>\n",
        "    </tr>\n",
        "    <tr>\n",
        "        <td>\n",
        "            <select>\n",
        "                <option value=\"int\">int</option>\n",
        "                <option value=\"float\">float</option>\n",
        "                <option value=\"char\">char</option>\n",
        "                <option value=\"bool\">bool</option>\n",
        "                <option value=\"ref\">ref</option>\n",
        "            </select>\n",
        "        </td>\n",
        "        <td>\n",
        "            Represents a fraction number\n",
        "        </td>\n",
        "    </tr>\n",
        "    <tr>\n",
        "        <td>\n",
        "            <select>\n",
        "                <option value=\"int\">int</option>\n",
        "                <option value=\"float\">float</option>\n",
        "                <option value=\"char\">char</option>\n",
        "                <option value=\"bool\">bool</option>\n",
        "                <option value=\"ref\">ref</option>\n",
        "            </select>\n",
        "        </td>\n",
        "        <td>\n",
        "            Represents an integer number\n",
        "        </td>\n",
        "    </tr>\n",
        "    <tr>\n",
        "        <td>\n",
        "            <select>\n",
        "                <option value=\"int\">int</option>\n",
        "                <option value=\"float\">float</option>\n",
        "                <option value=\"char\">char</option>\n",
        "                <option value=\"bool\">bool</option>\n",
        "                <option value=\"ref\">ref</option>\n",
        "            </select>\n",
        "        </td>\n",
        "        <td>\n",
        "            Represents an alphanumeric character\n",
        "        </td>\n",
        "    </tr>\n",
        "    <tr>\n",
        "        <td>\n",
        "            <select>\n",
        "                <option value=\"int\">int</option>\n",
        "                <option value=\"float\">float</option>\n",
        "                <option value=\"char\">char</option>\n",
        "                <option value=\"bool\">bool</option>\n",
        "                <option value=\"ref\">ref</option>\n",
        "            </select>\n",
        "        </td>\n",
        "        <td>\n",
        "            Represents a true/false value\n",
        "        </td>\n",
        "    </tr>\n",
        "<table>"
      ]
    },
    {
      "cell_type": "code",
      "execution_count": 1,
      "metadata": {
        "dotnet_interactive": {
          "language": "javascript"
        }
      },
      "outputs": [],
      "source": [
        "verifyDataTypes()"
      ]
    },
    {
      "cell_type": "code",
      "execution_count": 1,
      "metadata": {
        "dotnet_interactive": {
          "language": "csharp"
        }
      },
      "outputs": [],
      "source": [
        "display(correctDataTypes) "
      ]
    }
  ],
  "metadata": {
    "kernelspec": {
      "display_name": ".NET (C#)",
      "language": "C#",
      "name": ".net-csharp"
    },
    "language_info": {
      "file_extension": ".cs",
      "mimetype": "text/x-csharp",
      "name": "C#",
      "pygments_lexer": "csharp",
      "version": "8.0"
    }
  },
  "nbformat": 4,
  "nbformat_minor": 4
}

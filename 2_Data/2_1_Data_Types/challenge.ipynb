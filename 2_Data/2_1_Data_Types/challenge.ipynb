{
  "cells": [
    {
      "cell_type": "code",
      "execution_count": null,
      "metadata": {
        "dotnet_interactive": {
          "language": "csharp"
        }
      },
      "outputs": [
        {
          "data": {
            "text/html": [
              "<div><div></div><div></div><div><strong>Installed Packages</strong><ul><li><span>Interactive.Journey, 1.0.21</span></li></ul></div></div>"
            ]
          },
          "metadata": {},
          "output_type": "display_data"
        },
        {
          "data": {
            "text/markdown": [
              "Loading extension script from `C:\\Users\\edvil\\.nuget\\packages\\interactive.journey\\1.0.21\\interactive-extensions\\dotnet\\extension.dib`"
            ]
          },
          "metadata": {},
          "output_type": "display_data"
        },
        {
          "data": {
            "text/markdown": [
              "Interactive.Journey has loaded!"
            ]
          },
          "metadata": {},
          "output_type": "display_data"
        }
      ],
      "source": [
        "#r \"nuget: Interactive.Journey\"\n",
        "using Microsoft.DotNet.Interactive;\n",
        "using Microsoft.DotNet.Interactive.Journey;\n",
        "using Microsoft.DotNet.Interactive.Formatting;"
      ]
    },
    {
      "cell_type": "code",
      "execution_count": null,
      "metadata": {
        "dotnet_interactive": {
          "language": "csharp"
        }
      },
      "outputs": [],
      "source": [
        "Func<string, string> verifyDataType = (description) => \" \";"
      ]
    },
    {
      "cell_type": "markdown",
      "metadata": {},
      "source": [
        "# [Challenge] Data Types"
      ]
    },
    {
      "cell_type": "code",
      "execution_count": null,
      "metadata": {
        "dotnet_interactive": {
          "language": "csharp"
        }
      },
      "outputs": [],
      "source": [
        "Lesson.CurrentChallenge.AddRule(\"Rule: 2.1. Data types (fraction)\", context =>{\n",
        "    if(verifyDataType(\"Represents a fraction number\") == \"float\" && false) context.Pass();\n",
        "    else context.Fail();\n",
        "});\n",
        "Lesson.CurrentChallenge.AddRule(\"Rule: 2.1. Data types (integer)\", context =>{\n",
        "    if(verifyDataType(\"Represents an integer number\") == \"int\") context.Pass();\n",
        "    else context.Fail();\n",
        "});\n",
        "Lesson.CurrentChallenge.AddRule(\"Rule: 2.1. Data types (alphanumeric)\", context =>{\n",
        "    if(verifyDataType(\"Represents an alphanumeric character\") == \"char\") context.Pass();\n",
        "    else context.Fail();\n",
        "});\n",
        "Lesson.CurrentChallenge.AddRule(\"Rule: 2.1. Data types (true/false)\", context =>{\n",
        "    if(verifyDataType(\"Represents a true/false value\") == \"bool\") context.Pass();\n",
        "    else context.Fail();\n",
        "});"
      ]
    },
    {
      "cell_type": "code",
      "execution_count": 1,
      "metadata": {
        "dotnet_interactive": {
          "language": "csharp"
        }
      },
      "outputs": [],
      "source": [
        "Lesson.CurrentChallenge.OnCodeSubmitted(async context =>\n",
        "{\n",
        "    context.SetMessage(\"Please wait! We are checking your submission\");\n",
        "    int numPassed = context.RuleEvaluations.Count(e => e.Passed);\n",
        "    int total = context.RuleEvaluations.Count();\n",
        "    if(numPassed == total){\n",
        "        context.SetMessage(\"Congratulations! Challenge completed\");\n",
        "        // await context.StartNextChallengeAsync();\n",
        "    } else {\n",
        "        context.SetMessage(\"Challenge 2.1. is not complete\");\n",
        "    }\n",
        "});"
      ]
    },
    {
      "cell_type": "markdown",
      "metadata": {},
      "source": [
        "[Question]\n",
        "<h2>Challenge</h2>\n",
        "\n",
        "<mark>_Write a function that returns the corresponding data type._</mark>"
      ]
    },
    {
      "cell_type": "code",
      "execution_count": null,
      "metadata": {
        "dotnet_interactive": {
          "language": "csharp"
        }
      },
      "outputs": [],
      "source": [
        "verifyDataType = description => {\n",
        "    // Return float, int, char, bool\n",
        "    if(description == \"Represents a fraction number\") return \" \";\n",
        "    if(description == \"Represents an integer number\") return \" \";\n",
        "    if(description == \"Represents an alphanumeric character\") return \" \";\n",
        "    if(description == \"Represents a true/false value\") return \" \";\n",
        "    return \" \";\n",
        "};"
      ]
    }
  ],
  "metadata": {
    "kernelspec": {
      "display_name": ".NET (C#)",
      "language": "C#",
      "name": ".net-csharp"
    },
    "language_info": {
      "file_extension": ".cs",
      "mimetype": "text/x-csharp",
      "name": "C#",
      "pygments_lexer": "csharp",
      "version": "8.0"
    }
  },
  "nbformat": 4,
  "nbformat_minor": 4
}

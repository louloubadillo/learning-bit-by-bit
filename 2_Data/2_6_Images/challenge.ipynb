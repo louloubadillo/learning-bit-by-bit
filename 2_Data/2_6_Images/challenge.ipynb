{
  "cells": [
    {
      "cell_type": "code",
      "execution_count": 1,
      "metadata": {
        "dotnet_interactive": {
          "language": "csharp"
        }
      },
      "outputs": [],
      "source": [
        "//Packages\n",
        "#r \"nuget: Interactive.Journey\"\n",
        "#r \"nuget: Interactive.Extension.ImageSharp\"\n",
        "//Libraries\n",
        "using Microsoft.DotNet.Interactive.Journey;\n",
        "using Microsoft.DotNet.Interactive;\n",
        "using Microsoft.DotNet.Interactive.Commands;\n",
        "using Microsoft.DotNet.Interactive.CSharp;\n",
        "using Microsoft.DotNet.Interactive.Events;\n",
        "using SixLabors.ImageSharp;\n",
        "using System.IO;"
      ]
    },
    {
      "cell_type": "markdown",
      "metadata": {},
      "source": [
        "# [Challenge] Bitmaps"
      ]
    },
    {
      "cell_type": "code",
      "execution_count": 1,
      "metadata": {
        "dotnet_interactive": {
          "language": "csharp"
        }
      },
      "outputs": [],
      "source": [
        "//Reset the challenge before starting a new one\n",
        "Lesson.ResetChallenge();"
      ]
    },
    {
      "cell_type": "code",
      "execution_count": 1,
      "metadata": {
        "dotnet_interactive": {
          "language": "csharp"
        }
      },
      "outputs": [],
      "source": [
        "Func<int[,,], string> guessImage = (img) => \" \";\n",
        "int[,,] image1;\n",
        "int[,,] image2;\n",
        "int[,,] image3;\n",
        "int[,,] image4;\n",
        "int[,,] image5;"
      ]
    },
    {
      "cell_type": "code",
      "execution_count": 1,
      "metadata": {
        "dotnet_interactive": {
          "language": "csharp"
        }
      },
      "outputs": [],
      "source": [
        "Lesson.CurrentChallenge.AddRule(\"2.7. Image 1\", context =>\n",
        "{\n",
        "    if(guessImage(image1) == '0') context.Pass(\"Image 1: Correct\");\n",
        "    else context.Fail(\"Image 1: Incorrect\");\n",
        "});\n",
        "Lesson.CurrentChallenge.AddRule(\"2.7. Image 2\", context =>\n",
        "{\n",
        "    if(guessImage(image2) == '1') context.Pass(\"Image 2: Correct\");\n",
        "    else context.Fail(\"Image 2: Incorrect\");\n",
        "});\n",
        "Lesson.CurrentChallenge.AddRule(\"2.7. Image 3\", context =>\n",
        "{\n",
        "    if(guessImage(image3) == 'i') context.Pass(\"Image 3: Correct\");\n",
        "    else context.Fail(\"Image 3: Incorrect\");\n",
        "});\n",
        "Lesson.CurrentChallenge.AddRule(\"2.7. Image 4\", context =>\n",
        "{\n",
        "    if(guessImage(image4) == 'e') context.Pass(\"Image 4: Correct\");\n",
        "    else context.Fail(\"Image 4: Incorrect\");\n",
        "});\n",
        "Lesson.CurrentChallenge.AddRule(\"2.7. Image 5\", context =>\n",
        "{\n",
        "    if(guessImage(image5) == 'pi') context.Pass(\"Image 5: Correct\");\n",
        "    else context.Fail(\"Image 5: Incorrect\");\n",
        "});"
      ]
    },
    {
      "cell_type": "code",
      "execution_count": 1,
      "metadata": {
        "dotnet_interactive": {
          "language": "csharp"
        }
      },
      "outputs": [],
      "source": [
        "Lesson.CurrentChallenge.OnCodeSubmitted(async context =>\n",
        "    {\n",
        "        context.SetMessage(\"Please wait! We are checking your submission\");\n",
        "        int numPassed = context.RuleEvaluations.Count(e => e.Passed);\n",
        "        int total = context.RuleEvaluations.Count();\n",
        "        if(numPassed == total){\n",
        "            context.SetMessage(\"Congratulations! Challenge completed\");\n",
        "            await context.StartNextChallengeAsync();\n",
        "        } else {\n",
        "            context.SetMessage(\"Challenge 2.7. is not complete\");\n",
        "        }\n",
        "    });"
      ]
    },
    {
      "cell_type": "markdown",
      "metadata": {},
      "source": [
        "[Question]\n",
        "\n",
        "<h2> Challenge </h2>\n",
        "\n",
        "Consider the following arrays. These have been made to match one of the following symbols as an image:\n",
        "\n",
        "$1$, $0$, $\\pi$, $e$, $i$"
      ]
    },
    {
      "cell_type": "code",
      "execution_count": 1,
      "metadata": {
        "dotnet_interactive": {
          "language": "csharp"
        }
      },
      "outputs": [],
      "source": [
        "int[,,] image1 = new int[8,8,3] {\n",
        "       {{1, 1, 1}, {1, 1, 1},{1, 1, 1},{1, 1, 1},{1, 1, 1},{1, 1, 1},{1, 1, 1},{1, 1, 1}},\n",
        "\n",
        "       {{1, 1, 1},{1, 1, 1},{1, 1, 1},{0, 0, 0},{0, 0, 0},{0, 0, 0},{1, 1, 1},{1, 1, 1}},\n",
        "\n",
        "       {{1, 1, 1},{1, 1, 1},{0, 0, 0},{1, 1, 1},{1, 1, 1},{1, 1, 1},{0, 0, 0},{1, 1, 1}},\n",
        "\n",
        "       {{1, 1, 1},{1, 1, 1},{0, 0, 0},{1, 1, 1},{1, 1, 1},{1, 1, 1},{0, 0, 0},{1, 1, 1}},\n",
        "\n",
        "       {{1, 1, 1},{1, 1, 1},{0, 0, 0},{1, 1, 1},{1, 1, 1},{1, 1, 1},{0, 0, 0},{1, 1, 1}},\n",
        "\n",
        "       {{1, 1, 1},{1, 1, 1},{0, 0, 0},{1, 1, 1},{1, 1, 1},{1, 1, 1},{0, 0, 0},{1, 1, 1}},\n",
        "\n",
        "       {{1, 1, 1},{1, 1, 1},{0, 0, 0},{1, 1, 1},{1, 1, 1},{1, 1, 1},{0, 0, 0},{1, 1, 1}},\n",
        "\n",
        "       {{1, 1, 1},{1, 1, 1},{1, 1, 1},{0, 0, 0},{0, 0, 0},{0, 0, 0},{1, 1, 1},{1, 1, 1}}\n",
        "};"
      ]
    },
    {
      "cell_type": "code",
      "execution_count": 1,
      "metadata": {
        "dotnet_interactive": {
          "language": "csharp"
        }
      },
      "outputs": [],
      "source": [
        "int[,,] image2 = new int[8,8,3] {\n",
        "    {{1, 1, 1},{1, 1, 1},{1, 1, 1},{0, 0, 0},{0, 0, 0},{1, 1, 1},{1, 1, 1},{1, 1, 1}},\n",
        "\n",
        "    {{1, 1, 1},{1, 1, 1},{0, 0, 0},{1, 1, 1},{0, 0, 0},{1, 1, 1},{1, 1, 1},{1, 1, 1}},\n",
        "\n",
        "    {{1, 1, 1},{1, 1, 1},{1, 1, 1},{1, 1, 1},{0, 0, 0},{1, 1, 1},{1, 1, 1},{1, 1, 1}},\n",
        "\n",
        "    {{1, 1, 1},{1, 1, 1},{1, 1, 1},{1, 1, 1},{0, 0, 0},{1, 1, 1},{1, 1, 1},{1, 1, 1}},\n",
        "\n",
        "    {{1, 1, 1},{1, 1, 1},{1, 1, 1},{1, 1, 1},{0, 0, 0},{1, 1, 1},{1, 1, 1},{1, 1, 1}},\n",
        "\n",
        "    {{1, 1, 1},{1, 1, 1},{1, 1, 1},{1, 1, 1},{0, 0, 0},{1, 1, 1},{1, 1, 1},{1, 1, 1}},\n",
        "\n",
        "    {{1, 1, 1},{1, 1, 1},{1, 1, 1},{1, 1, 1},{0, 0, 0},{1, 1, 1},{1, 1, 1},{1, 1, 1}},\n",
        "\n",
        "    {{1, 1, 1},{1, 1, 1},{0, 0, 0},{0, 0, 0},{0, 0, 0},{0, 0, 0},{0, 0, 0},{1, 1, 1}}\n",
        "};"
      ]
    },
    {
      "cell_type": "code",
      "execution_count": 1,
      "metadata": {
        "dotnet_interactive": {
          "language": "csharp"
        }
      },
      "outputs": [],
      "source": [
        "int[,,] image3 = new int[8,8,3] {\n",
        "    {{1, 1, 1},{1, 1, 1},{1, 1, 1},{0, 0, 0},{1, 1, 1},{1, 1, 1},{1, 1, 1},{1, 1, 1}},\n",
        "    \n",
        "    {{1, 1, 1},{1, 1, 1},{1, 1, 1},{1, 1, 1},{1, 1, 1},{1, 1, 1},{1, 1, 1},{1, 1, 1}},\n",
        "    \n",
        "    {{1, 1, 1},{1, 1, 1},{0, 0, 0},{0, 0, 0},{1, 1, 1},{1, 1, 1},{1, 1, 1},{1, 1, 1}},\n",
        "    \n",
        "    {{1, 1, 1},{0, 0, 0},{1, 1, 1},{0, 0, 0},{1, 1, 1},{1, 1, 1},{1, 1, 1},{1, 1, 1}},\n",
        "    \n",
        "    {{1, 1, 1},{1, 1, 1},{1, 1, 1},{0, 0, 0},{1, 1, 1},{1, 1, 1},{1, 1, 1},{1, 1, 1}},\n",
        "    \n",
        "    {{1, 1, 1},{1, 1, 1},{1, 1, 1},{0, 0, 0},{1, 1, 1},{1, 1, 1},{1, 1, 1},{1, 1, 1}},\n",
        "    \n",
        "    {{1, 1, 1},{1, 1, 1},{1, 1, 1},{0, 0, 0},{1, 1, 1},{0, 0, 0},{1, 1, 1},{1, 1, 1}},\n",
        "    \n",
        "    {{1, 1, 1},{1, 1, 1},{1, 1, 1},{0, 0, 0},{0, 0, 0},{1, 1, 1},{1, 1, 1},{1, 1, 1}}\n",
        "};"
      ]
    },
    {
      "cell_type": "code",
      "execution_count": 1,
      "metadata": {
        "dotnet_interactive": {
          "language": "csharp"
        }
      },
      "outputs": [],
      "source": [
        "int[,,] image4 = new int[8,8,3] {\n",
        "    {{1, 1, 1},{1, 1, 1},{0, 0, 0},{0, 0, 0},{0, 0, 0},{1, 1, 1},{1, 1, 1},{1, 1, 1}},\n",
        "    \n",
        "    {{1, 1, 1},{0, 0, 0},{1, 1, 1},{1, 1, 1},{1, 1, 1},{0, 0, 0},{1, 1, 1},{1, 1, 1}},\n",
        "    \n",
        "    {{0, 0, 0},{0, 0, 0},{1, 1, 1},{1, 1, 1},{1, 1, 1},{1, 1, 1},{0, 0, 0},{1, 1, 1}},\n",
        "\n",
        "    {{0, 0, 0},{0, 0, 0},{0, 0, 0},{0, 0, 0},{0, 0, 0},{0, 0, 0},{0, 0, 0},{1, 1, 1}},\n",
        "\n",
        "    {{0, 0, 0},{0, 0, 0},{1, 1, 1},{1, 1, 1},{1, 1, 1},{1, 1, 1},{1, 1, 1},{1, 1, 1}},\n",
        "\n",
        "    {{0, 0, 0},{0, 0, 0},{1, 1, 1},{1, 1, 1},{1, 1, 1},{1, 1, 1},{1, 1, 1},{1, 1, 1}},\n",
        "\n",
        "    {{1, 1, 1},{0, 0, 0},{0, 0, 0},{1, 1, 1},{1, 1, 1},{0, 0, 0},{0, 0, 0},{0, 0, 0}},\n",
        "\n",
        "    {{1, 1, 1},{1, 1, 1},{0, 0, 0},{0, 0, 0},{0, 0, 0},{0, 0, 0},{1, 1, 1},{1, 1, 1}}\n",
        "};"
      ]
    },
    {
      "cell_type": "code",
      "execution_count": 1,
      "metadata": {
        "dotnet_interactive": {
          "language": "csharp"
        }
      },
      "outputs": [],
      "source": [
        "int[,,] image5 = new int[8,8,3] {\n",
        "    {{1, 1, 1},{1, 1, 1},{1, 1, 1},{1, 1, 1},{1, 1, 1},{1, 1, 1},{1, 1, 1},{1, 1, 1}},\n",
        "\n",
        "    {{1, 1, 1},{1, 1, 1},{1, 1, 1},{1, 1, 1},{1, 1, 1},{1, 1, 1},{1, 1, 1},{0, 0, 0}},\n",
        "\n",
        "    {{1, 1, 1},{0, 0, 0},{0, 0, 0},{0, 0, 0},{0, 0, 0},{0, 0, 0},{0, 0, 0},{0, 0, 0}},\n",
        "\n",
        "    {{0, 0, 0},{1, 1, 1},{0, 0, 0},{1, 1, 1},{1, 1, 1},{0, 0, 0},{1, 1, 1},{1, 1, 1}},\n",
        "\n",
        "    {{1, 1, 1},{1, 1, 1},{0, 0, 0},{1, 1, 1},{1, 1, 1},{0, 0, 0},{1, 1, 1},{1, 1, 1}},\n",
        "\n",
        "    {{1, 1, 1},{1, 1, 1},{0, 0, 0},{1, 1, 1},{1, 1, 1},{0, 0, 0},{1, 1, 1},{1, 1, 1}},\n",
        "\n",
        "    {{1, 1, 1},{1, 1, 1},{0, 0, 0},{1, 1, 1},{1, 1, 1},{0, 0, 0},{1, 1, 1},{0, 0, 0}},\n",
        "    \n",
        "    {{1, 1, 1},{0, 0, 0},{0, 0, 0},{1, 1, 1},{1, 1, 1},{0, 0, 0},{0, 0, 0},{1, 1, 1}}\n",
        "};"
      ]
    },
    {
      "cell_type": "markdown",
      "metadata": {},
      "source": [
        "<mark>_Write a function that receives one of the above arrays and outputs the symbol it represents_</mark>"
      ]
    },
    {
      "cell_type": "code",
      "execution_count": 1,
      "metadata": {
        "dotnet_interactive": {
          "language": "csharp"
        }
      },
      "outputs": [],
      "source": [
        "guessImage = (arr) => {\n",
        "    // Symbols '0', '1', 'pi', 'i', 'e'\n",
        "    if(arr == image1) return \" \";\n",
        "    if(arr == image2) return \" \";\n",
        "    if(arr == image3) return \" \";\n",
        "    if(arr == image4) return \" \";\n",
        "    if(arr == image5) return \" \";\n",
        "    return \" \";\n",
        "};"
      ]
    }
  ],
  "metadata": {
    "kernelspec": {
      "display_name": ".NET (C#)",
      "language": "C#",
      "name": ".net-csharp"
    },
    "language_info": {
      "file_extension": ".cs",
      "mimetype": "text/x-csharp",
      "name": "C#",
      "pygments_lexer": "csharp",
      "version": "8.0"
    }
  },
  "nbformat": 4,
  "nbformat_minor": 4
}

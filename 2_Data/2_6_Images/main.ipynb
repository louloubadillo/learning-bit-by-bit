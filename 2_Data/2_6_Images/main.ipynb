{
  "cells": [
    {
      "cell_type": "markdown",
      "metadata": {},
      "source": [
        "<h1>2.6 Images</h1>"
      ]
    },
    {
      "cell_type": "markdown",
      "metadata": {},
      "source": [
        "_In this lesson you will learn how images are stored and understood by the computer using arrays_"
      ]
    },
    {
      "cell_type": "markdown",
      "metadata": {},
      "source": [
        "<span style=\"font-size: 1rem\"> \n",
        "    How can we represent colors?\n",
        "</span>"
      ]
    },
    {
      "cell_type": "markdown",
      "metadata": {},
      "source": [
        "<h2> Primary colors </h2>\n",
        "\n",
        "You might remember from elementary school that in the visual arts we can create colors using only 3 _primary colors_. In the world of optics we have discovered that the primary colors of light are: Red, Green and Blue (RGB). This means that all colors you can see are nothing more than a combination of hues of red, green and blue. Thus we can represent a color as an array of three values that represent hues. \n",
        "\n",
        "For example to represent full red we write:\n",
        "\n",
        "$$\n",
        "\\begin{array}{|c|c|c|}\n",
        "    \\hline\n",
        "    \\textcolor{red}{255} & \\textcolor{green}{0} & \\textcolor{blue}{0} \\\\\n",
        "    \\hline\n",
        "\\end{array}\n",
        "$$\n",
        "\n",
        "If each of this arrays represents a color we can draw a line by creating an array of colors! Each color would be used per pixel:\n",
        "\n",
        "<img src=\"../../images/line.jpg\" style=\"height: 8px\">\n",
        "\n",
        "And we can create any 2D image by creating a matrix of colors!\n",
        "\n",
        "Note:\n",
        "\n",
        "You might have noticed that we used 255 for the maximum value of red (which happens to be $\\small{2^{8}-1}$). However, for the sake of simplicity we will normalize this values so that 1 represents the maximum value and 0 represents the minimum.\n",
        "\n",
        "<h2>Combining colors</h2>\n",
        "\n",
        "For this activity you will need to know only 2 colors, white and black.\n",
        "\n",
        "White occurs when you have all colors; that means red, green, and blue are 1 (in the normalized form).\n",
        "\n",
        "Black is a synonym for no-light (or no-colors), thus it occurs when red, green, and blue are 0."
      ]
    },
    {
      "cell_type": "code",
      "execution_count": 1,
      "metadata": {
        "dotnet_interactive": {
          "language": "csharp"
        }
      },
      "outputs": [],
      "source": [
        "#r \"nuget: Interactive.Journey\""
      ]
    },
    {
      "cell_type": "code",
      "execution_count": 1,
      "metadata": {
        "dotnet_interactive": {
          "language": "csharp"
        }
      },
      "outputs": [],
      "source": [
        "#!start-lesson --from-file \"challenge.ipynb\""
      ]
    }
  ],
  "metadata": {
    "kernelspec": {
      "display_name": ".NET (C#)",
      "language": "C#",
      "name": ".net-csharp"
    },
    "language_info": {
      "file_extension": ".cs",
      "mimetype": "text/x-csharp",
      "name": "C#",
      "pygments_lexer": "csharp",
      "version": "8.0"
    }
  },
  "nbformat": 4,
  "nbformat_minor": 4
}

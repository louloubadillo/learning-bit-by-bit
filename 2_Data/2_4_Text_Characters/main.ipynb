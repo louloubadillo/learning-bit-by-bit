{
  "cells": [
    {
      "cell_type": "markdown",
      "metadata": {},
      "source": [
        "<h1> 2.4. Text Characters </h1>"
      ]
    },
    {
      "cell_type": "markdown",
      "metadata": {},
      "source": [
        "_In this lesson you will learn how to represent alphanumeric characters using ASCII and about the need for international encoding standards_"
      ]
    },
    {
      "cell_type": "markdown",
      "metadata": {},
      "source": [
        "<span style=\"font-size: 1rem\">\n",
        "Okay, enough numbers, what about text?\n",
        "</span>"
      ]
    },
    {
      "cell_type": "markdown",
      "metadata": {},
      "source": [
        "This text you are reading right now is also stored in binary inside your computer. But how is this information stored? Your immediate guess might be assigning each character a number. And you'd be absolutely right.\n",
        "\n",
        "So you would say that lowercase a should be represented by 1, but some other person would say that uppaercase A should be represented by 1. In the past, computer manufacturers had over 60 different ways of representing characters in computers and a need for a standard was much needed.\n",
        "\n",
        "**ASCII**, the American Standard Code for Information Interchange, was released to serve as a common language among computers. The idea was that 128 characters—letters, numbers, punctuation marks, and control codes—would each have a standard numeric value.\n",
        "\n",
        "Below is a table of all the characters in ASCII. Note that characters 0-31 are control characters for formatting and escaping. "
      ]
    },
    {
      "cell_type": "markdown",
      "metadata": {},
      "source": [
        "| Char\t| Number | Description |\n",
        "| ----- | ------ | ----------- |\n",
        "|  | 0 - 31 |\tControl characters |\n",
        "|  | 32 | space |\n",
        "|! | 33 | exclamation mark |\n",
        "|\" | 34 | quotation mark |\n",
        "|# | 35 | number sign |\n",
        "|$ | 36 | dollar sign |\n",
        "|% | 37 | percent sign |\n",
        "|& | 38 | ampersand |\n",
        "|' | 39 | apostrophe |\n",
        "|( | 40 | left parenthesis |\n",
        "|) | 41 | right parenthesis |\n",
        "|* | 42 | asterisk |\n",
        "|+ | 43 | plus sign |\n",
        "|, | 44 | comma |\n",
        "|- | 45 | hyphen |\n",
        "|. | 46 | period |\n",
        "|/ | 47 | slash |\n",
        "|0 | 48 | digit 0 |\n",
        "|1 | 49 | digit 1 |\n",
        "|2 | 50 | digit 2 |\n",
        "|3 | 51 | digit 3 |\n",
        "|4 | 52 | digit 4 |\n",
        "|5 | 53 | digit 5 |\n",
        "|6 | 54 | digit 6 |\n",
        "|7 | 55 | digit 7 |\n",
        "|8 | 56 | digit 8 |\n",
        "|9 | 57 | digit 9 |\n",
        "|: | 58 | colon |\n",
        "|; | 59 | semicolon |\n",
        "|< | 60 | less-than |\n",
        "|= | 61 | equals-to |\n",
        "|> | 62 | greater-than |\n",
        "|? | 63 | question mark |\n",
        "|@ | 64 | at sign |\n",
        "|A | 65 | uppercase A |\n",
        "|B | 66 | uppercase B |\n",
        "|C | 67 | uppercase C |\n",
        "|D | 68 | uppercase D |\n",
        "|E | 69 | uppercase E |\n",
        "|F | 70 | uppercase F |\n",
        "|G | 71 | uppercase G |\n",
        "|H | 72 | uppercase H |\n",
        "|I | 73 | uppercase I |\n",
        "|J | 74 | uppercase J |\n",
        "|K | 75 | uppercase K |\n",
        "|L | 76 | uppercase L |\n",
        "|M | 77 | uppercase M |\n",
        "|N | 78 | uppercase N |\n",
        "|O | 79 | uppercase O |\n",
        "|P | 80 | uppercase P |\n",
        "|Q | 81 | uppercase Q |\n",
        "|R | 82 | uppercase R |\n",
        "|S | 83 | uppercase S |\n",
        "|T | 84 | uppercase T |\n",
        "|U | 85 | uppercase U |\n",
        "|V | 86 | uppercase V |\n",
        "|W | 87 | uppercase W |\n",
        "|X | 88 | uppercase X |\n",
        "|Y | 89 | uppercase Y |\n",
        "|Z | 90 | uppercase Z |\n",
        "|[ | 91 | left square bracket |\n",
        "|\\ | 92 | backslash |\n",
        "|] | 93 | right square bracket |\n",
        "|^ | 94 | caret |\n",
        "|_ | 95 | underscore |\n",
        "|` | 96 | grave accent |\n",
        "|a | 97 | lowercase a |\n",
        "|b | 98 | lowercase b |\n",
        "|c | 99 | lowercase c |\n",
        "|d | 100 | lowercase d |\n",
        "|e | 101 | lowercase e |\n",
        "|f | 102 | lowercase f |\n",
        "|g | 103 | lowercase g |\n",
        "|h | 104 | lowercase h |\n",
        "|i | 105 | lowercase i |\n",
        "|j | 106 | lowercase j |\n",
        "|k | 107 | lowercase k |\n",
        "|l | 108 | lowercase l |\n",
        "|m | 109 | lowercase m |\n",
        "|n | 110 | lowercase n |\n",
        "|o | 111 | lowercase o |\n",
        "|p | 112 | lowercase p |\n",
        "|q | 113 | lowercase q |\n",
        "|r | 114 | lowercase r |\n",
        "|s | 115 | lowercase s |\n",
        "|t | 116 | lowercase t |\n",
        "|u | 117 | lowercase u |\n",
        "|v | 118 | lowercase v |\n",
        "|w | 119 | lowercase w |\n",
        "|x | 120 | lowercase x |\n",
        "|y | 121 | lowercase y |\n",
        "|z | 122 | lowercase z |\n",
        "|{ | 123 | left curly brace |\n",
        "|\\| | 124 | vertical bar |\n",
        "|} | 125 | right curly brace |\n",
        "|~ | 126 | tilde |\n",
        " | |  |"
      ]
    },
    {
      "cell_type": "markdown",
      "metadata": {
        "dotnet_interactive": {
          "language": "csharp"
        }
      },
      "source": [
        "\n",
        "<iframe src=\"http://localhost:8000/2_Data/2_4_Text_Characters/2_4_embed.html?\" style=\"border: none; box-sizing: border-box; width: 100%; height: 300px; margin: auto; display: block\"></iframe> "
      ]
    },
    {
      "cell_type": "code",
      "execution_count": null,
      "metadata": {
        "dotnet_interactive": {
          "language": "csharp"
        }
      },
      "outputs": [
        {
          "data": {
            "text/html": [
              "<div><div></div><div></div><div><strong>Installed Packages</strong><ul><li><span>Interactive.Journey, 1.0.21</span></li></ul></div></div>"
            ]
          },
          "metadata": {},
          "output_type": "display_data"
        },
        {
          "data": {
            "text/markdown": [
              "Loading extension script from `C:\\Users\\edvil\\.nuget\\packages\\interactive.journey\\1.0.21\\interactive-extensions\\dotnet\\extension.dib`"
            ]
          },
          "metadata": {},
          "output_type": "display_data"
        },
        {
          "data": {
            "text/markdown": [
              "Interactive.Journey has loaded!"
            ]
          },
          "metadata": {},
          "output_type": "display_data"
        }
      ],
      "source": [
        "#r \"nuget: Interactive.Journey\""
      ]
    },
    {
      "cell_type": "code",
      "execution_count": null,
      "metadata": {
        "dotnet_interactive": {
          "language": "csharp"
        }
      },
      "outputs": [
        {
          "data": {
            "text/html": [
              "<div><div></div><div></div><div><strong>Installed Packages</strong><ul><li><span>Interactive.Journey, 1.0.21</span></li></ul></div></div>"
            ]
          },
          "metadata": {},
          "output_type": "display_data"
        }
      ],
      "source": [
        "#!start-lesson --from-file \"challenge.ipynb\""
      ]
    }
  ],
  "metadata": {
    "kernelspec": {
      "display_name": ".NET (C#)",
      "language": "C#",
      "name": ".net-csharp"
    },
    "language_info": {
      "file_extension": ".cs",
      "mimetype": "text/x-csharp",
      "name": "C#",
      "pygments_lexer": "csharp",
      "version": "8.0"
    }
  },
  "nbformat": 4,
  "nbformat_minor": 4
}

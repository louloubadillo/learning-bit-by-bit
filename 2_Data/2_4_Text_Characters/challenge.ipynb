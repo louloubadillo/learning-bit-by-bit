{
  "cells": [
    {
      "cell_type": "code",
      "execution_count": null,
      "metadata": {
        "dotnet_interactive": {
          "language": "csharp"
        }
      },
      "outputs": [
        {
          "data": {
            "text/html": [
              "<div><div></div><div></div><div><strong>Installed Packages</strong><ul><li><span>Interactive.Journey, 1.0.21</span></li></ul></div></div>"
            ]
          },
          "metadata": {},
          "output_type": "display_data"
        },
        {
          "data": {
            "text/markdown": [
              "Loading extension script from `C:\\Users\\edvil\\.nuget\\packages\\interactive.journey\\1.0.21\\interactive-extensions\\dotnet\\extension.dib`"
            ]
          },
          "metadata": {},
          "output_type": "display_data"
        },
        {
          "data": {
            "text/markdown": [
              "Interactive.Journey has loaded!"
            ]
          },
          "metadata": {},
          "output_type": "display_data"
        }
      ],
      "source": [
        "#r \"nuget: Interactive.Journey\"\n",
        "using Microsoft.DotNet.Interactive;\n",
        "using Microsoft.DotNet.Interactive.Journey;\n",
        "using Microsoft.DotNet.Interactive.Formatting;"
      ]
    },
    {
      "cell_type": "markdown",
      "metadata": {},
      "source": [
        "# [Challenge] ASCII"
      ]
    },
    {
      "cell_type": "code",
      "execution_count": null,
      "metadata": {
        "dotnet_interactive": {
          "language": "csharp"
        }
      },
      "outputs": [],
      "source": [
        "async Task<bool> verifyASCIIString(string s){\n",
        "    var input = Convert.ToString(await GetInputAsync(s));\n",
        "    try{\n",
        "        if(Encoding.ASCII.GetString( Encoding.ASCII.GetBytes(input) ) == s) return true;\n",
        "    } catch(Exception){\n",
        "        return false;\n",
        "    }\n",
        "    return false;\n",
        "}"
      ]
    },
    {
      "cell_type": "code",
      "execution_count": null,
      "metadata": {
        "dotnet_interactive": {
          "language": "csharp"
        }
      },
      "outputs": [],
      "source": [
        "void asciiChallenge(){\n",
        "    var d = display(\"\");\n",
        "    Lesson.CurrentChallenge.AddRule(\"Microsoft in ASCII\", async context =>{\n",
        "        d.Update(\"Type 'Microsoft' on the prompt at the top of the screen\");\n",
        "        if(await verifyASCIIString(\"Microsoft\")) context.Pass();\n",
        "        else context.Fail();\n",
        "    });\n",
        "    Lesson.CurrentChallenge.AddRule(\"Computer\", async context =>{\n",
        "        d.Update(\"Type 'Computer' on the prompt at the top of the screen\");\n",
        "        if(await verifyASCIIString(\"Computer\")) context.Pass();\n",
        "        else context.Fail();\n",
        "    });\n",
        "    Lesson.CurrentChallenge.AddRule(\"Hackathon\", async context =>{\n",
        "        d.Update(\"Type 'Hackathon' on the prompt at the top of the screen\");\n",
        "        if(await verifyASCIIString(\"Hackathon\")) context.Pass();\n",
        "        else context.Fail();\n",
        "    });\n",
        "}"
      ]
    },
    {
      "cell_type": "code",
      "execution_count": null,
      "metadata": {
        "dotnet_interactive": {
          "language": "csharp"
        }
      },
      "outputs": [],
      "source": [
        "Lesson.CurrentChallenge.OnCodeSubmitted(async context =>\n",
        "{\n",
        "    context.SetMessage(\"Please wait! We are checking your submission\");\n",
        "    int numPassed = context.RuleEvaluations.Count(e => e.Passed);\n",
        "    int total = context.RuleEvaluations.Count();\n",
        "    if(numPassed == total){\n",
        "        context.SetMessage(\"Congratulations! Challenge completed\");\n",
        "        await context.StartNextChallengeAsync();\n",
        "    } else {\n",
        "        context.SetMessage(\"Challenge 2.4. is not complete\");\n",
        "    }\n",
        "});"
      ]
    },
    {
      "cell_type": "markdown",
      "metadata": {},
      "source": [
        "[Question]\n",
        "\n",
        "<h2>Challenge</h2>\n",
        "\n",
        "<mark>_Run the script below and type your answers on the prompt at the top of the screen._</mark>"
      ]
    },
    {
      "cell_type": "code",
      "execution_count": null,
      "metadata": {
        "dotnet_interactive": {
          "language": "csharp"
        }
      },
      "outputs": [
        {
          "data": {
            "text/plain": []
          },
          "metadata": {},
          "output_type": "display_data"
        }
      ],
      "source": [
        "asciiChallenge()"
      ]
    }
  ],
  "metadata": {
    "kernelspec": {
      "display_name": ".NET (C#)",
      "language": "C#",
      "name": ".net-csharp"
    },
    "language_info": {
      "file_extension": ".cs",
      "mimetype": "text/x-csharp",
      "name": "C#",
      "pygments_lexer": "csharp",
      "version": "8.0"
    }
  },
  "nbformat": 4,
  "nbformat_minor": 4
}

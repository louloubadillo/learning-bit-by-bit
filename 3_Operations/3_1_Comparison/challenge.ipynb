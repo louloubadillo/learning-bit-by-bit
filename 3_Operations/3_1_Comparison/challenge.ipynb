{
  "cells": [
    {
      "cell_type": "code",
      "execution_count": 1,
      "metadata": {
        "dotnet_interactive": {
          "language": "csharp"
        }
      },
      "outputs": [],
      "source": [
        "//Packages\n",
        "#r \"nuget: Interactive.Journey\"\n",
        "#r \"nuget: Interactive.Extension.ImageSharp\"\n",
        "//Libraries\n",
        "using Microsoft.DotNet.Interactive.Journey;\n",
        "using Microsoft.DotNet.Interactive;\n",
        "using Microsoft.DotNet.Interactive.Commands;\n",
        "using Microsoft.DotNet.Interactive.CSharp;\n",
        "using Microsoft.DotNet.Interactive.Events;\n",
        "using SixLabors.ImageSharp;\n",
        "using System.IO;"
      ]
    },
    {
      "cell_type": "markdown",
      "metadata": {},
      "source": [
        "# [Challenge] 3.1.2 Logic Gates"
      ]
    },
    {
      "cell_type": "code",
      "execution_count": 1,
      "metadata": {
        "dotnet_interactive": {
          "language": "csharp"
        }
      },
      "outputs": [],
      "source": [
        "Func<bool,bool,bool> andGate = (a,b)=>false;\n",
        "Func<bool,bool,bool> orGate = (a,b)=>false;\n",
        "Func<bool,bool> notGate = (a)=>false;"
      ]
    },
    {
      "cell_type": "code",
      "execution_count": 1,
      "metadata": {
        "dotnet_interactive": {
          "language": "csharp"
        }
      },
      "outputs": [],
      "source": [
        "Lesson.CurrentChallenge.AddRule(\"Rule: 3.1.2. And Gate\", context =>{\n",
        "    if(andGate(false, false) == false && andGate(false, true) == false && andGate(true, false) == false && andGate(true,true) == true) context.Pass();\n",
        "    else context.Fail();\n",
        "});\n",
        "Lesson.CurrentChallenge.AddRule(\"Rule: 3.1.2. OR Gate\", context =>{\n",
        "    if(orGate(false, false) == false && orGate(false, true) == true && orGate(true, false) == true && orGate(true,true) == true) context.Pass();\n",
        "    else context.Fail();\n",
        "});\n",
        "Lesson.CurrentChallenge.AddRule(\"Rule: 3.1.2. NOT Gate\", context =>{\n",
        "    if(notGate(false) == true && notGate(true) == false) context.Pass();\n",
        "    else context.Fail();\n",
        "});"
      ]
    },
    {
      "cell_type": "code",
      "execution_count": 1,
      "metadata": {
        "dotnet_interactive": {
          "language": "csharp"
        }
      },
      "outputs": [],
      "source": [
        "Lesson.CurrentChallenge.OnCodeSubmitted(async context =>\n",
        "    {\n",
        "        context.SetMessage(\"Please wait! We are checking your submission\");\n",
        "        int numPassed = context.RuleEvaluations.Count(e => e.Passed);\n",
        "        int total = context.RuleEvaluations.Count();\n",
        "        if(numPassed == total){\n",
        "            context.SetMessage(\"Congratulations! Challenge completed\");\n",
        "            await context.StartNextChallengeAsync();\n",
        "        } else {\n",
        "            context.SetMessage(\"Challenge 3.1.2. is not complete\");\n",
        "        }\n",
        "    });"
      ]
    },
    {
      "cell_type": "markdown",
      "metadata": {},
      "source": [
        "[Question]\n",
        "<h2> 3.1.2. Logic Gates </h2>\n",
        "\n",
        "<mark>_Use the table below to program the logic gates_</mark>\n",
        "\n",
        "| GATE | SYMBOLS | DESCRIPTION | \n",
        "| ---- | ------- | ----------- |\n",
        "| AND | && | Returns `true` only if BOTH inputs are `true` |\n",
        "| OR  | \\|\\| | Returns `true` when EITHER of the inputs are `true` | \n",
        "| NOT | ! | Returns `true` when the input is `false` |"
      ]
    },
    {
      "cell_type": "code",
      "execution_count": 1,
      "metadata": {
        "dotnet_interactive": {
          "language": "csharp"
        }
      },
      "outputs": [],
      "source": [
        "// AND GATE\n",
        "andGate = (a, b) => {\n",
        "    // Code here\n",
        "    return false;\n",
        "};\n",
        "\n",
        "// OR GATE\n",
        "orGate = (a, b) => {\n",
        "    // Code here\n",
        "    return false;\n",
        "};\n",
        "\n",
        "// NOT GATE\n",
        "notGate = (a) => {\n",
        "    // Code here\n",
        "    return false;\n",
        "};"
      ]
    },
    {
      "cell_type": "markdown",
      "metadata": {},
      "source": [
        "# [Challenge] More logic gates"
      ]
    },
    {
      "cell_type": "code",
      "execution_count": 1,
      "metadata": {
        "dotnet_interactive": {
          "language": "csharp"
        }
      },
      "outputs": [],
      "source": [
        "Func<bool,bool,bool> andGate = (a,b)=> a && b;\n",
        "Func<bool,bool,bool> orGate = (a,b)=> a || b;\n",
        "Func<bool,bool> notGate = (a)=> !a;\n",
        "\n",
        "Func<bool,bool,bool> xorGate = (a, b) => false;\n",
        "Func<bool,bool,bool> nandGate = (a, b)=> false;\n",
        "Func<bool,bool,bool> norGate = (a, b)=> false;\n",
        "Func<bool,bool,bool> xnorGate = (a, b)=> false;"
      ]
    },
    {
      "cell_type": "code",
      "execution_count": 1,
      "metadata": {
        "dotnet_interactive": {
          "language": "csharp"
        }
      },
      "outputs": [],
      "source": [
        "Lesson.CurrentChallenge.AddRule(\"Rule: 3.1.3. XOR Gate\", context =>{\n",
        "    if(xorGate(false, false) == false && xorGate(false, true) == true && xorGate(true, false) == true && xorGate(true,true) == false) context.Pass();\n",
        "    else context.Fail();\n",
        "});\n",
        "Lesson.CurrentChallenge.AddRule(\"Rule: 3.1.3. NAND Gate\", context =>{\n",
        "    if(nandGate(false, false) == true && nandGate(false, true) == true && nandGate(true, false) == true && nandGate(true,true) == false) context.Pass();\n",
        "    else context.Fail();\n",
        "});\n",
        "Lesson.CurrentChallenge.AddRule(\"Rule: 3.1.3. NOR Gate\", context =>{\n",
        "    if(norGate(false, false) == true && norGate(false, true) == false && norGate(true, false) == false && norGate(true,true) == false) context.Pass();\n",
        "    else context.Fail();\n",
        "});\n",
        "Lesson.CurrentChallenge.AddRule(\"Rule: 3.1.3. XNOR Gate\", context =>{\n",
        "    if(xnorGate(false, false) == true && xnorGate(false, true) == false && xnorGate(true, false) == false && xnorGate(true,true) == true) context.Pass();\n",
        "    else context.Fail();\n",
        "});"
      ]
    },
    {
      "cell_type": "code",
      "execution_count": 1,
      "metadata": {
        "dotnet_interactive": {
          "language": "csharp"
        }
      },
      "outputs": [],
      "source": [
        "Lesson.CurrentChallenge.OnCodeSubmitted(async context =>\n",
        "    {\n",
        "        context.SetMessage(\"Please wait! We are checking your submission\");\n",
        "        int numPassed = context.RuleEvaluations.Count(e => e.Passed);\n",
        "        int total = context.RuleEvaluations.Count();\n",
        "        if(numPassed == total){\n",
        "            context.SetMessage(\"Congratulations! Challenge completed\");\n",
        "            await context.StartNextChallengeAsync();\n",
        "        } else {\n",
        "            context.SetMessage(\"Challenge 3.1.2. is not complete\");\n",
        "        }\n",
        "    });"
      ]
    },
    {
      "cell_type": "markdown",
      "metadata": {},
      "source": [
        "[Question]\n",
        "<h2> 3.1.3 More logic gates </h2>\n",
        "\n",
        "There are some other logic gates\n",
        "\n",
        "<mark>_Use the table below to program the logic gates._</mark>\n",
        "\n",
        "| GATE | SYMBOLS | DESCRIPTION |\n",
        "| ---- | ------- | ----------- |\n",
        "| XOR | ^ | Returns `true` when ONLY ONE of the outputs is `true` |\n",
        "| NAND | NAND | Returns the opposite of the AND gate | \n",
        "| NOR | NOR | Returns the opposite of the OR gate |\n",
        "| XNOR | XNOR | Return the opposite of the XOR gate | "
      ]
    },
    {
      "cell_type": "code",
      "execution_count": 1,
      "metadata": {
        "dotnet_interactive": {
          "language": "csharp"
        }
      },
      "outputs": [],
      "source": [
        "// XOR GATE\n",
        "xorGate = (a, b) => {\n",
        "    // Code here\n",
        "    return false;\n",
        "};\n",
        "\n",
        "// NAND GATE\n",
        "nandGate = (a, b) => {\n",
        "    // Code here\n",
        "    return false;\n",
        "};\n",
        "\n",
        "// NOR GATE\n",
        "norGate = (a, b) => {\n",
        "    // Code here\n",
        "    return false;\n",
        "};\n",
        "\n",
        "// XNOR GATE\n",
        "xnorGate = (a, b) => {\n",
        "    // Code here\n",
        "    return false;\n",
        "};"
      ]
    }
  ],
  "metadata": {
    "kernelspec": {
      "display_name": ".NET (C#)",
      "language": "C#",
      "name": ".net-csharp"
    },
    "language_info": {
      "file_extension": ".cs",
      "mimetype": "text/x-csharp",
      "name": "C#",
      "pygments_lexer": "csharp",
      "version": "8.0"
    }
  },
  "nbformat": 4,
  "nbformat_minor": 4
}

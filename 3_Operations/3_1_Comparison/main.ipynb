{
  "cells": [
    {
      "cell_type": "markdown",
      "metadata": {},
      "source": [
        "<h1> 3.1. Comparing two bits </h1>"
      ]
    },
    {
      "cell_type": "markdown",
      "metadata": {},
      "source": [
        "_In this lesson, you will learn how comparing two bits helps make decisions._"
      ]
    },
    {
      "cell_type": "markdown",
      "metadata": {},
      "source": [
        "<span style=\"font-size: 1rem\">\n",
        "\n",
        "So now I understand how computers store data. But they do more than just that right? How can one _do stuff_ using ones an zeros?\n",
        "</span>"
      ]
    },
    {
      "cell_type": "markdown",
      "metadata": {},
      "source": [
        "As we have said before, a bit is the fundamental unit of information in a binary system. A lot of power comes from comparing the content of two bits alone. Let's see all the combinations:\n",
        "\n",
        "$$\n",
        "\\begin{align*}\n",
        "00 && 01 && 10 && 11\n",
        "\\end{align*}\n",
        "$$"
      ]
    },
    {
      "cell_type": "markdown",
      "metadata": {},
      "source": [
        "A lot of things can be identified from all the combinations above. Considering each bit as a true/false state, you realize you can build basic **conditions**. For example, you can get better health if you sleep well **AND** drink lots of water. \n",
        "With this, you can have a way to receive two binary inputs and produce a binary output. This is called a **logic gate**."
      ]
    },
    {
      "cell_type": "markdown",
      "metadata": {},
      "source": [
        "## Logic Gates\n",
        "\n",
        "Logic gates are models of electronic devices or logic functions that receive one or two inputs to produce a resulting output. They serve as the most basic unit of programming. The most simple are: AND, OR, NOT. "
      ]
    },
    {
      "cell_type": "code",
      "execution_count": 1,
      "metadata": {
        "dotnet_interactive": {
          "language": "csharp"
        }
      },
      "outputs": [],
      "source": [
        "#r \"nuget: Interactive.Journey\""
      ]
    },
    {
      "cell_type": "code",
      "execution_count": 1,
      "metadata": {
        "dotnet_interactive": {
          "language": "csharp"
        }
      },
      "outputs": [],
      "source": [
        "#!start-lesson --from-file \"challenge.ipynb\""
      ]
    }
  ],
  "metadata": {
    "kernelspec": {
      "display_name": ".NET (C#)",
      "language": "C#",
      "name": ".net-csharp"
    },
    "language_info": {
      "file_extension": ".cs",
      "mimetype": "text/x-csharp",
      "name": "C#",
      "pygments_lexer": "csharp",
      "version": "8.0"
    }
  },
  "nbformat": 4,
  "nbformat_minor": 4
}

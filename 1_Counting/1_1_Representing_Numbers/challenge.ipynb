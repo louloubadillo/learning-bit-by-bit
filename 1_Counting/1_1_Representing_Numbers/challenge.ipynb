{
  "cells": [
    {
      "cell_type": "code",
      "execution_count": null,
      "metadata": {
        "dotnet_interactive": {
          "language": "csharp"
        }
      },
      "outputs": [],
      "source": [
        "//Packages\n",
        "#r \"nuget: Interactive.Journey\"\n",
        "#r \"nuget: Interactive.Extension.ImageSharp\"\n",
        "//Libraries\n",
        "using Microsoft.DotNet.Interactive.Journey;\n",
        "using Microsoft.DotNet.Interactive;\n",
        "using Microsoft.DotNet.Interactive.Commands;\n",
        "using Microsoft.DotNet.Interactive.CSharp;\n",
        "using Microsoft.DotNet.Interactive.Events;\n",
        "using SixLabors.ImageSharp;\n",
        "using System.IO;"
      ]
    },
    {
      "cell_type": "markdown",
      "metadata": {},
      "source": [
        "# [Challenge] Individual-Mapping"
      ]
    },
    {
      "cell_type": "code",
      "execution_count": null,
      "metadata": {
        "dotnet_interactive": {
          "language": "csharp"
        }
      },
      "outputs": [],
      "source": [
        "//Reset the challenge before starting a new one\n",
        "Lesson.ResetChallenge();"
      ]
    },
    {
      "cell_type": "code",
      "execution_count": null,
      "metadata": {
        "dotnet_interactive": {
          "language": "csharp"
        }
      },
      "outputs": [],
      "source": [
        "Func<char[], int> countIndividualMarks = charArray => 0;"
      ]
    },
    {
      "cell_type": "code",
      "execution_count": null,
      "metadata": {
        "dotnet_interactive": {
          "language": "csharp"
        }
      },
      "outputs": [],
      "source": [
        "Lesson.CurrentChallenge.AddRule(\"Rule: 1.1.1. Individual Mapping\", context =>\n",
        "{\n",
        "    // for(int i = 0; i < 4; i++){\n",
        "    Random rnd = new Random();\n",
        "    int n = rnd.Next();\n",
        "\n",
        "    string str = \"\";\n",
        "    for(int j = 0; j < n; j++) str+= '.';\n",
        "\n",
        "    if(countIndividualMarks(str.ToCharArray()) != str.Length){\n",
        "        context.Fail(\"Counting function is incorrect, expected \" + n);\n",
        "        // break;\n",
        "    }\n",
        "    // }\n",
        "    else context.Pass(\"Counting function is correct\");\n",
        "});"
      ]
    },
    {
      "cell_type": "code",
      "execution_count": null,
      "metadata": {
        "dotnet_interactive": {
          "language": "csharp"
        }
      },
      "outputs": [],
      "source": [
        "Lesson.CurrentChallenge.OnCodeSubmitted(async context =>\n",
        "{\n",
        "    context.SetMessage(\"Please wait! We are checking your submission\");\n",
        "    int numPassed = context.RuleEvaluations.Count(e => e.Passed);\n",
        "    int total = context.RuleEvaluations.Count();\n",
        "    if(numPassed == total){\n",
        "        context.SetMessage(\"Congratulations! Challenge completed\");\n",
        "        await context.StartNextChallengeAsync();\n",
        "    } else {\n",
        "        context.SetMessage(\"Challenge 1.1.1. Is not complete\");\n",
        "    }\n",
        "});"
      ]
    },
    {
      "cell_type": "markdown",
      "metadata": {},
      "source": [
        "[Question] \n",
        "<h2>1.1.1. Individual mapping </h2>\n",
        "\n",
        "An immediate solution to the counting problem might be grabbing a piece of paper and marking a dot per person. The more items there are in the set, the more dots there would be on the paper.\n",
        "\n",
        "<mark>_Write a program that receives a string of dots and counts them._</mark>"
      ]
    },
    {
      "cell_type": "code",
      "execution_count": null,
      "metadata": {
        "dotnet_interactive": {
          "language": "csharp"
        }
      },
      "outputs": [],
      "source": [
        "countIndividualMarks = charArray =>\n",
        "{\n",
        "    // Write your answer here\n",
        "    throw new NotImplementedException();\n",
        "};"
      ]
    },
    {
      "cell_type": "markdown",
      "metadata": {},
      "source": [
        "# [Challenge] Grouping-Symbols"
      ]
    },
    {
      "cell_type": "code",
      "execution_count": null,
      "metadata": {
        "dotnet_interactive": {
          "language": "csharp"
        }
      },
      "outputs": [],
      "source": [
        "//Reset the challenge before starting a new one\n",
        "Lesson.ResetChallenge();"
      ]
    },
    {
      "cell_type": "code",
      "execution_count": null,
      "metadata": {
        "dotnet_interactive": {
          "language": "csharp"
        }
      },
      "outputs": [],
      "source": [
        "Func<char[], int> countManyMarks = charArray => 0;"
      ]
    },
    {
      "cell_type": "code",
      "execution_count": null,
      "metadata": {
        "dotnet_interactive": {
          "language": "csharp"
        }
      },
      "outputs": [],
      "source": [
        "Lesson.CurrentChallenge.AddRule(\"Rule: 1.1.2. Grouping symbols\", context =>\n",
        "{\n",
        "    char[] symbols = {'*', 'o', '.'};\n",
        "    \n",
        "    Random rnd = new Random();\n",
        "    int n = rnd.Next(10);\n",
        "\n",
        "    string str = \"\";\n",
        "    int correctAns = 0;\n",
        "    for(int i = 0; i < n; i++){\n",
        "        char c = symbols[rnd.Next(3)];\n",
        "        str+=c;\n",
        "        if(c == '*') correctAns += 25;\n",
        "        if(c == 'o') correctAns += 5;\n",
        "        if(c == '.') correctAns += 1;\n",
        "    }\n",
        "    if (correctAns == countManyMarks(str.ToCharArray()))\n",
        "    {\n",
        "        context.Pass(\"Counting function is correct\");\n",
        "    }\n",
        "    else\n",
        "    {\n",
        "        context.Fail(\"Counting function is incorrect\");\n",
        "    }\n",
        "});"
      ]
    },
    {
      "cell_type": "code",
      "execution_count": null,
      "metadata": {
        "dotnet_interactive": {
          "language": "csharp"
        }
      },
      "outputs": [],
      "source": [
        "Lesson.CurrentChallenge.OnCodeSubmitted(async context =>\n",
        "{\n",
        "    context.SetMessage(\"Please wait! We are checking your submission\");\n",
        "    int numPassed = context.RuleEvaluations.Count(e => e.Passed);\n",
        "    int total = context.RuleEvaluations.Count();\n",
        "    if(numPassed == total){\n",
        "        context.SetMessage(\"Congratulations! Challenge completed\");\n",
        "        await context.StartNextChallengeAsync();\n",
        "    } else {\n",
        "        context.SetMessage(\"Challenge 1.1.2. Is not complete\");\n",
        "    }\n",
        "});"
      ]
    },
    {
      "cell_type": "markdown",
      "metadata": {},
      "source": [
        "[Question]\n",
        "<h2>1.1.2. Grouping symbols</h2>\n",
        "\n",
        "It might seem obvious how the above process might become troublesome for very big numbers. You would have to manually re-count the dots, and you will probably run out of space pretty quickly!\n",
        "\n",
        "So now you think of a clever way to extend this idea and you realize that the whole point of using dots in the first place was to talk about quantities in a symbolic manner. Thus, to save some space, you start **grouping quantitites** using different symbols that represent different quantities, such as:\n",
        "\n",
        "| Symbol         | Relative Value | Value in units |\n",
        "|----------------|----------------|----------------|\n",
        "| .              | .              | 1 unit         |\n",
        "| o              | .....          | 5 units        |\n",
        "| *              | ooooo          | 25 units       |\n",
        "\n",
        "\n",
        "<mark>_Using the table above, write a program that receives an array of characters and returns the represented number._</mark>"
      ]
    },
    {
      "cell_type": "code",
      "execution_count": null,
      "metadata": {
        "dotnet_interactive": {
          "language": "csharp"
        }
      },
      "outputs": [],
      "source": [
        "countManyMarks = charArray =>\n",
        "{\n",
        "    // Answer here\n",
        "    // Return the represented number if\n",
        "    // . = 1\n",
        "    // o = 5\n",
        "    // * = 25\n",
        "    throw new NotImplementedException(); \n",
        "};"
      ]
    },
    {
      "cell_type": "markdown",
      "metadata": {},
      "source": [
        "# [Challenge] Grouping-with-Position"
      ]
    },
    {
      "cell_type": "code",
      "execution_count": null,
      "metadata": {
        "dotnet_interactive": {
          "language": "csharp"
        }
      },
      "outputs": [],
      "source": [
        "//Reset the challenge before starting a new one\n",
        "Lesson.ResetChallenge();"
      ]
    },
    {
      "cell_type": "code",
      "execution_count": null,
      "metadata": {
        "dotnet_interactive": {
          "language": "csharp"
        }
      },
      "outputs": [],
      "source": [
        "Func<char[,], int> countGroupPosition = rectanglesArray => 0;"
      ]
    },
    {
      "cell_type": "code",
      "execution_count": null,
      "metadata": {
        "dotnet_interactive": {
          "language": "csharp"
        }
      },
      "outputs": [],
      "source": [
        "Lesson.CurrentChallenge.AddRule(\"Rule: 1.1.3. Grouping with position\", context =>\n",
        "{\n",
        "    Random rnd = new Random();\n",
        "    int numberOfRectangles = rnd.Next(7);\n",
        "    char[,] arr = new char[numberOfRectangles,6];\n",
        "    for(int i = 0; i < numberOfRectangles; i++){\n",
        "        int numberOfElements = rnd.Next(6);\n",
        "        for(int j = 0; j < numberOfElements; j++){\n",
        "            arr[i, j] = '.';\n",
        "        }\n",
        "    }\n",
        "\n",
        "    int representedNumber = 0;\n",
        "    for(int i = arr.Length; i > 0; i--){\n",
        "        int rectangleValue = 0;\n",
        "        for(int j = 0; j < 6; j++){\n",
        "            if(arr[i,j] == '.') rectangleValue++;\n",
        "        }\n",
        "        representedNumber += (int) Math.Pow(rectangleValue, (arr.Length - i));\n",
        "    }\n",
        "    if(representedNumber == countGroupPosition(arr)){\n",
        "        context.Pass(\"Counting function is correct\");\n",
        "    } else {\n",
        "        context.Fail(\"Counting function is incorrect\");\n",
        "    }\n",
        "});"
      ]
    },
    {
      "cell_type": "code",
      "execution_count": null,
      "metadata": {
        "dotnet_interactive": {
          "language": "csharp"
        }
      },
      "outputs": [],
      "source": [
        "Lesson.CurrentChallenge.OnCodeSubmitted(async context =>\n",
        "{\n",
        "    context.SetMessage(\"Please wait! We are checking your submission\");\n",
        "    int numPassed = context.RuleEvaluations.Count(e => e.Passed);\n",
        "    int total = context.RuleEvaluations.Count();\n",
        "    if(numPassed == total){\n",
        "        context.SetMessage(\"Congratulations! Challenge completed\");\n",
        "        await context.StartNextChallengeAsync();\n",
        "    } else {\n",
        "        context.SetMessage(\"Challenge 1.1.3. is not complete\");\n",
        "    }\n",
        "});"
      ]
    },
    {
      "cell_type": "markdown",
      "metadata": {},
      "source": [
        "[Question]\n",
        "<h2> 1.1.3. Better grouping with position </h2>\n",
        "\n",
        "The grouping solution works great. However you quickly realize that: \n",
        "* You would need an infinite amount of symbols to efficiently represent any arbitrary number\n",
        "* There is no rule for the order of the symbols, which makes the reading confusing\n",
        "\n",
        "You come up with a great idea:\n",
        "1. You draw rectangles that can represent up to a maximum number\n",
        "2. When a rectangle is filled you add another one to its left\n",
        "3. Hence each unit on a rectangle equals the maximum value of the rectangle to its right.\n",
        "\n",
        "<mark>_Assuming each rectangle can represent a quantity up to 5, write a program that receives a 2D array and returns the represented number according to the rules above._</mark>"
      ]
    },
    {
      "cell_type": "code",
      "execution_count": null,
      "metadata": {
        "dotnet_interactive": {
          "language": "csharp"
        }
      },
      "outputs": [],
      "source": [
        "countGroupPosition = arr =>\n",
        "{\n",
        "    // Answer here\n",
        "    // Return represented number. E.g.,\n",
        "    //   [['.'], ['.', '.', '.'], ['.', '.']] = (1 * n^2) + (3 * n^1) + (2 * n^0)\n",
        "    // In this case, assume n = 5\n",
        "    throw new NotImplementedException(); \n",
        "};"
      ]
    },
    {
      "cell_type": "markdown",
      "metadata": {},
      "source": [
        "# [Challenge] Positional-Systems"
      ]
    },
    {
      "cell_type": "markdown",
      "metadata": {},
      "source": [
        "[Question]\n",
        "<h2>1.1.4. Positional systems</h2>\n",
        "\n",
        "What if instead of using boxes of dots we assign each value inside the rectangle its own symbol? We would have a limited amount of symbols and would rely on position to give them meaning. You might be thinking \"wait, isn't that how we count?\", and you would be right: **that is how the decimal system works.**\n",
        "\n",
        "In the decimal system we use 10 different symbols, and each position represents a different power of 10. Using this, we can succesfully represent huge quantities without compromising on space or understanding. \n",
        "\n",
        "It is believed that 10 is used globally as the _default_ base bacause most of us have 10 fingers. However we can take this idea to its simplest: using only 2 symbols. **This system is called BINARY, and is at the heart of Computer Science**\n",
        "\n",
        "<mark>_Write a program that receives a string of ones and zeros and returns the represented number._</mark>"
      ]
    },
    {
      "cell_type": "code",
      "execution_count": null,
      "metadata": {
        "dotnet_interactive": {
          "language": "csharp"
        }
      },
      "outputs": [],
      "source": [
        "//Reset the challenge before starting a new one\n",
        "Lesson.ResetChallenge();"
      ]
    },
    {
      "cell_type": "code",
      "execution_count": null,
      "metadata": {
        "dotnet_interactive": {
          "language": "csharp"
        }
      },
      "outputs": [],
      "source": [
        "Func<string, int> countBinary = binaryString => 0;"
      ]
    },
    {
      "cell_type": "code",
      "execution_count": null,
      "metadata": {
        "dotnet_interactive": {
          "language": "csharp"
        }
      },
      "outputs": [],
      "source": [
        "Lesson.CurrentChallenge.AddRule(\"Rule: 1.1.4. Positional systems\", context =>\n",
        "{\n",
        "    Random rnd = new Random();\n",
        "    int number = rnd.Next(999);\n",
        "    string binaryString = Convert.ToString(number, 2);\n",
        "\n",
        "    if(number == countBinary(binaryString)){\n",
        "        context.Pass(\"Counting function is correct\");\n",
        "    } else {\n",
        "        context.Fail(\"Counting function is incorrect\");\n",
        "    }\n",
        "});"
      ]
    },
    {
      "cell_type": "code",
      "execution_count": null,
      "metadata": {
        "dotnet_interactive": {
          "language": "csharp"
        }
      },
      "outputs": [],
      "source": [
        "Lesson.CurrentChallenge.OnCodeSubmitted(async context =>\n",
        "{\n",
        "    context.SetMessage(\"Please wait! We are checking your submission\");\n",
        "    int numPassed = context.RuleEvaluations.Count(e => e.Passed);\n",
        "    int total = context.RuleEvaluations.Count();\n",
        "    if(numPassed == total){\n",
        "        context.SetMessage(\"Congratulations! Challenge completed\");\n",
        "        await context.StartNextChallengeAsync();\n",
        "    } else {\n",
        "        context.SetMessage(\"Challenge 1.1.4. is not complete\");\n",
        "    }\n",
        "});"
      ]
    }
  ],
  "metadata": {
    "kernelspec": {
      "display_name": ".NET (C#)",
      "language": "C#",
      "name": ".net-csharp"
    },
    "language_info": {
      "file_extension": ".cs",
      "mimetype": "text/x-csharp",
      "name": "C#",
      "pygments_lexer": "csharp",
      "version": "8.0"
    }
  },
  "nbformat": 4,
  "nbformat_minor": 4
}

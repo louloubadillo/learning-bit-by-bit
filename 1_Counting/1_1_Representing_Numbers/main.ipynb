{
  "cells": [
    {
      "cell_type": "markdown",
      "metadata": {},
      "source": [
        "<h1> 1.1. How to represent numbers </h1>"
      ]
    },
    {
      "cell_type": "markdown",
      "metadata": {},
      "source": [
        "_In this lesson, you will learn the different ways in which any arbitrary quantity may be represented. One such way is binary_"
      ]
    },
    {
      "cell_type": "markdown",
      "metadata": {},
      "source": [
        "<span style=\"font-size: 1rem\">\n",
        "Counting is a fundamental part of our daily lives, and so is having a system that allows us to <strong>represent</strong> and <strong>understand</strong> any given quantity. If you were, for example, curious about the amount of people living in your city, <strong>How would you represent such a quantity?</strong>\n",
        "</span>"
      ]
    },
    {
      "cell_type": "code",
      "execution_count": 1,
      "metadata": {
        "dotnet_interactive": {
          "language": "csharp"
        }
      },
      "outputs": [],
      "source": [
        "#r \"nuget: Interactive.Journey\""
      ]
    },
    {
      "cell_type": "code",
      "execution_count": 1,
      "metadata": {
        "dotnet_interactive": {
          "language": "csharp"
        }
      },
      "outputs": [],
      "source": [
        "#!start-lesson --from-file \"challenge.ipynb\""
      ]
    }
  ],
  "metadata": {
    "kernelspec": {
      "display_name": ".NET (C#)",
      "language": "C#",
      "name": ".net-csharp"
    },
    "language_info": {
      "file_extension": ".cs",
      "mimetype": "text/x-csharp",
      "name": "C#",
      "pygments_lexer": "csharp",
      "version": "8.0"
    }
  },
  "nbformat": 4,
  "nbformat_minor": 4
}

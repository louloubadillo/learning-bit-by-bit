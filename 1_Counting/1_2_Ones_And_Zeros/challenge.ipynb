{
  "cells": [
    {
      "cell_type": "code",
      "execution_count": 1,
      "metadata": {
        "dotnet_interactive": {
          "language": "csharp"
        }
      },
      "outputs": [],
      "source": [
        "//Packages\n",
        "#r \"nuget: Interactive.Journey\"\n",
        "#r \"nuget: Interactive.Extension.ImageSharp\"\n",
        "//Libraries\n",
        "using Microsoft.DotNet.Interactive.Journey;\n",
        "using Microsoft.DotNet.Interactive;\n",
        "using Microsoft.DotNet.Interactive.Commands;\n",
        "using Microsoft.DotNet.Interactive.CSharp;\n",
        "using Microsoft.DotNet.Interactive.Events;\n",
        "using SixLabors.ImageSharp;\n",
        "using System.IO;"
      ]
    },
    {
      "cell_type": "markdown",
      "metadata": {},
      "source": [
        "# [Challenge] On/Off Basic"
      ]
    },
    {
      "cell_type": "code",
      "execution_count": 1,
      "metadata": {
        "dotnet_interactive": {
          "language": "csharp"
        }
      },
      "outputs": [],
      "source": [
        "//Reset the challenge before starting a new one\n",
        "Lesson.ResetChallenge();"
      ]
    },
    {
      "cell_type": "code",
      "execution_count": 1,
      "metadata": {
        "dotnet_interactive": {
          "language": "csharp"
        }
      },
      "outputs": [],
      "source": [
        "Func<int> iWantToContinueLearning = () => 0;"
      ]
    },
    {
      "cell_type": "code",
      "execution_count": 1,
      "metadata": {
        "dotnet_interactive": {
          "language": "csharp"
        }
      },
      "outputs": [],
      "source": [
        "Lesson.CurrentChallenge.AddRule(\"Rule: 1.2.1. On/Off Basic\", context =>\n",
        "{\n",
        "    if(iWantToContinueLearning() == 1){\n",
        "        context.Pass(\"Awesome! Let's keep on going\");\n",
        "    } else {\n",
        "        context.Fail(\"Make a function that returns 1 if you want to continue learning.\");\n",
        "    }\n",
        "});"
      ]
    },
    {
      "cell_type": "code",
      "execution_count": 1,
      "metadata": {
        "dotnet_interactive": {
          "language": "csharp"
        }
      },
      "outputs": [],
      "source": [
        "Lesson.CurrentChallenge.OnCodeSubmitted(async context =>\n",
        "    {\n",
        "        context.SetMessage(\"Please wait! We are checking your submission\");\n",
        "        int numPassed = context.RuleEvaluations.Count(e => e.Passed);\n",
        "        int total = context.RuleEvaluations.Count();\n",
        "        if(numPassed == total){\n",
        "            context.SetMessage(\"Congratulations! Challenge completed\");\n",
        "            await context.StartNextChallengeAsync();\n",
        "        } else {\n",
        "            context.SetMessage(\"Challenge 1.2.2. is not complete\");\n",
        "        }\n",
        "    });"
      ]
    },
    {
      "cell_type": "markdown",
      "metadata": {},
      "source": [
        "[Question]\n",
        "<h2> 1.2.1. On/Off Basic </h2>"
      ]
    },
    {
      "cell_type": "markdown",
      "metadata": {
        "dotnet_interactive": {
          "language": "html"
        }
      },
      "source": [
        "<iframe src=\"http://localhost:8000/1_Counting/1_2_Ones_And_Zeros/1_2_1_embed.html\" style=\"border: none; box-sizing: border-box; width: 400px; height: 100px; margin: auto; display: block\"></iframe>"
      ]
    },
    {
      "cell_type": "markdown",
      "metadata": {},
      "source": [
        "Binay can be used to represent anything with two states: sad/happy, cheap/expensive, love/hate, and also **on/off**. In the context of electronic devices (such as computers) it is convention to think of 1 as ON (has flow of electricity) and 0 as OFF (doesn't have flow of electricity).\n",
        "\n",
        "<mark>_Make a function that returns 1 if you want to continue learning._</mark>"
      ]
    },
    {
      "cell_type": "code",
      "execution_count": 1,
      "metadata": {
        "dotnet_interactive": {
          "language": "csharp"
        }
      },
      "outputs": [],
      "source": [
        "iWantToContinueLearning = () =>\n",
        "{\n",
        "    // Answer here\n",
        "    throw new NotImplementedException(); \n",
        "};"
      ]
    },
    {
      "cell_type": "markdown",
      "metadata": {},
      "source": [
        "# [Challenge] Bits and bytes"
      ]
    },
    {
      "cell_type": "code",
      "execution_count": 1,
      "metadata": {
        "dotnet_interactive": {
          "language": "csharp"
        }
      },
      "outputs": [],
      "source": [
        "//Reset the challenge before starting a new one\n",
        "Lesson.ResetChallenge();"
      ]
    },
    {
      "cell_type": "code",
      "execution_count": 1,
      "metadata": {
        "dotnet_interactive": {
          "language": "csharp"
        }
      },
      "outputs": [],
      "source": [
        "Func<int> numberOfCombinationsIn8Bits = () => 0;"
      ]
    },
    {
      "cell_type": "code",
      "execution_count": 1,
      "metadata": {
        "dotnet_interactive": {
          "language": "csharp"
        }
      },
      "outputs": [],
      "source": [
        "Lesson.CurrentChallenge.AddRule(\"Rule: 1.2.2. Bits and bytes\", context =>\n",
        "{\n",
        "    if(numberOfCombinationsIn8Bits() == Math.Pow(2,8)){\n",
        "        context.Pass(\"Awesome! Let's keep on going\");\n",
        "    } else {\n",
        "        context.Fail(\"Make a function that returns 1 if you want to continue learning.\");\n",
        "    }\n",
        "});"
      ]
    },
    {
      "cell_type": "code",
      "execution_count": 1,
      "metadata": {
        "dotnet_interactive": {
          "language": "csharp"
        }
      },
      "outputs": [],
      "source": [
        "Lesson.CurrentChallenge.OnCodeSubmitted(async context =>\n",
        "    {\n",
        "        context.SetMessage(\"Please wait! We are checking your submission\");\n",
        "        int numPassed = context.RuleEvaluations.Count(e => e.Passed);\n",
        "        int total = context.RuleEvaluations.Count();\n",
        "        if(numPassed == total){\n",
        "            context.SetMessage(\"Congratulations! Challenge completed\");\n",
        "            await context.StartNextChallengeAsync();\n",
        "        } else {\n",
        "            context.SetMessage(\"Challenge 1.2.2. is not complete\");\n",
        "        }\n",
        "    });"
      ]
    },
    {
      "cell_type": "markdown",
      "metadata": {},
      "source": [
        "[Question]\n",
        "<h2> 1.2.2. Bits and bytes </h2>"
      ]
    },
    {
      "cell_type": "markdown",
      "metadata": {},
      "source": [
        "<iframe src=\"http://localhost:8000/1_Counting/1_2_Ones_And_Zeros/1_2_2_embed.html\" style=\"border: none; box-sizing: border-box; width: 100%; height: 200px; margin: auto; display: block\"></iframe>"
      ]
    },
    {
      "cell_type": "markdown",
      "metadata": {},
      "source": [
        "\n",
        "In the example beofre, we saw how a single switch could represent either 0 or 1, ON or OFF. \n",
        "\n",
        "The **bit** (binary digit) is the most basic unit of information in binary. As we saw in the previous chapter, a collection of bits can represent bigger numbers or states.\n",
        "\n",
        "A **byte** consists of a sequence of **8 bits**\n",
        "\n",
        "<mark>_Write a program that outputs the number of possible combinations in 8 bits_</mark>"
      ]
    },
    {
      "cell_type": "code",
      "execution_count": 1,
      "metadata": {
        "dotnet_interactive": {
          "language": "csharp"
        }
      },
      "outputs": [],
      "source": [
        "numberOfCombinationsIn8Bits = () =>\n",
        "{\n",
        "    // Answer here\n",
        "    throw new NotImplementedException(); \n",
        "};"
      ]
    },
    {
      "cell_type": "markdown",
      "metadata": {},
      "source": [
        "# [Challenge] Bytes, why?"
      ]
    },
    {
      "cell_type": "code",
      "execution_count": 1,
      "metadata": {
        "dotnet_interactive": {
          "language": "csharp"
        }
      },
      "outputs": [],
      "source": [
        "//Reset the challenge before starting a new one\n",
        "Lesson.ResetChallenge();"
      ]
    },
    {
      "cell_type": "code",
      "execution_count": 1,
      "metadata": {
        "dotnet_interactive": {
          "language": "csharp"
        }
      },
      "outputs": [],
      "source": [
        "Func<int, int> getSizeInBytes = (n) => 0;"
      ]
    },
    {
      "cell_type": "code",
      "execution_count": 1,
      "metadata": {
        "dotnet_interactive": {
          "language": "csharp"
        }
      },
      "outputs": [],
      "source": [
        "Lesson.CurrentChallenge.AddRule(\"Rule: 1.2.3. Bytes, why?\", context =>\n",
        "{\n",
        "    Random rnd = new Random();\n",
        "    int n = rnd.Next(100000);\n",
        "    string binary = Convert.ToString(n, 2);\n",
        "    int bytes = (int) Math.Ceiling((decimal) (binary.Length / 8));\n",
        "\n",
        "    if(getSizeInBytes(n) == bytes){\n",
        "        context.Pass(\"Correct!\");\n",
        "    } else {\n",
        "        context.Fail(\"Try again.\");\n",
        "    }\n",
        "});"
      ]
    },
    {
      "cell_type": "code",
      "execution_count": 1,
      "metadata": {
        "dotnet_interactive": {
          "language": "csharp"
        }
      },
      "outputs": [],
      "source": [
        "Lesson.CurrentChallenge.OnCodeSubmitted(async context =>\n",
        "    {\n",
        "        context.SetMessage(\"Please wait! We are checking your submission\");\n",
        "        int numPassed = context.RuleEvaluations.Count(e => e.Passed);\n",
        "        int total = context.RuleEvaluations.Count();\n",
        "        if(numPassed == total){\n",
        "            context.SetMessage(\"Congratulations! Challenge completed\");\n",
        "            await context.StartNextChallengeAsync();\n",
        "        } else {\n",
        "            context.SetMessage(\"Challenge 1.2.3. is not complete\");\n",
        "        }\n",
        "    });"
      ]
    },
    {
      "cell_type": "markdown",
      "metadata": {},
      "source": [
        "[Question]\n",
        "\n",
        "<h2>1.2.3. Bytes, why? </h2>\n",
        "\n",
        "You might be wondering, why do we need to divide bits in bytes. After all, 254 is not a very big number. You'd be right. However, computers store multiple values simultaneously. \n",
        "\n",
        "Take a book for example. Having multiple fixed-width lines of content makes it easier to read and understand, as opposed to having all of the text in a single line. \n",
        "! Insert image\n",
        "\n",
        "Bytes allow to split the information into manageable _chunks_.\n",
        "\n",
        "<mark>_Write a program that receives a number and outputs its size in bytes_</mark>"
      ]
    },
    {
      "cell_type": "code",
      "execution_count": 1,
      "metadata": {
        "dotnet_interactive": {
          "language": "csharp"
        }
      },
      "outputs": [],
      "source": [
        "getSizeInBytes = n =>\n",
        "{\n",
        "    // Answer here\n",
        "    throw new NotImplementedException(); \n",
        "};"
      ]
    },
    {
      "cell_type": "markdown",
      "metadata": {},
      "source": [
        "# [Challenge] How is it all stored"
      ]
    },
    {
      "cell_type": "markdown",
      "metadata": {},
      "source": [
        "[Question]\n",
        "\n",
        "<h2>1.2.4. How is it all stored</h2>\n",
        "\n",
        "By now you know that everything in the computer is stored as ones and zero's. However, you might wonder how is all of this information stored and how one might make sense of it.\n",
        "\n",
        "To make it easier to identify specific locations in memory, we arrange it as a table of bytes.\n",
        "\n",
        "<iframe src=\"http://localhost:8000/1_Counting/1_2_Ones_And_Zeros/1_2_4_embed.html?\" style=\"border: none; box-sizing: border-box; width: 100%; height: 50vmin; margin: auto; display: block\"></iframe> "
      ]
    }
  ],
  "metadata": {
    "kernelspec": {
      "display_name": ".NET (C#)",
      "language": "C#",
      "name": ".net-csharp"
    },
    "language_info": {
      "file_extension": ".cs",
      "mimetype": "text/x-csharp",
      "name": "C#",
      "pygments_lexer": "csharp",
      "version": "8.0"
    }
  },
  "nbformat": 4,
  "nbformat_minor": 4
}
